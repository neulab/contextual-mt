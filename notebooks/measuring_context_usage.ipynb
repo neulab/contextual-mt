{
 "cells": [
  {
   "cell_type": "markdown",
   "metadata": {},
   "source": [
    "# Measuring Context Usage with CXMI\n",
    "\n",
    "This notebook contains the code to measure CXMI for contextual models trained in this libray\n",
    "\n",
    "Start by setting the path for your checkpoint of interest. This should ideally be a model trained with *dynamic* context size. \n",
    "We also need set context size for which we are measuring CXMI. We also need to set the languages in order to load the sentencepiece models."
   ]
  },
  {
   "cell_type": "code",
   "execution_count": 1,
   "metadata": {},
   "outputs": [],
   "source": [
    "%load_ext autoreload\n",
    "%autoreload 2\n",
    "model_ckpt=\"/projects/tir4/users/pfernand/ted-cxmi-experiments-disjoint/TrainModel/TgtLang.fr/checkpoint_dir/\"\n",
    "#model_ckpt=\"/projects/tir5/users/patrick/checkpoints/iwslt2017/en-fr/one_to_five_sampled_pretrained_drop03_1/\"\n",
    "source_context_size=0\n",
    "target_context_size=1\n",
    "source_lang=\"en\"\n",
    "target_lang=\"fr\""
   ]
  },
  {
   "cell_type": "markdown",
   "metadata": {},
   "source": [
    "And then load the models and associated files such as the vocabularies into memory"
   ]
  },
  {
   "cell_type": "code",
   "execution_count": 2,
   "metadata": {},
   "outputs": [
    {
     "ename": "ImportError",
     "evalue": "/home/kayoy/miniconda3/envs/venv/lib/python3.8/site-packages/numpy/random/mtrand.cpython-38-x86_64-linux-gnu.so: file too short",
     "output_type": "error",
     "traceback": [
      "\u001b[0;31m---------------------------------------------------------------------------\u001b[0m",
      "\u001b[0;31mImportError\u001b[0m                               Traceback (most recent call last)",
      "\u001b[0;32m<ipython-input-2-d9f2d22be896>\u001b[0m in \u001b[0;36m<module>\u001b[0;34m\u001b[0m\n\u001b[1;32m      1\u001b[0m \u001b[0;32mimport\u001b[0m \u001b[0mos\u001b[0m\u001b[0;34m\u001b[0m\u001b[0;34m\u001b[0m\u001b[0m\n\u001b[1;32m      2\u001b[0m \u001b[0;32mimport\u001b[0m \u001b[0msentencepiece\u001b[0m \u001b[0;32mas\u001b[0m \u001b[0msp\u001b[0m\u001b[0;34m\u001b[0m\u001b[0;34m\u001b[0m\u001b[0m\n\u001b[0;32m----> 3\u001b[0;31m \u001b[0;32mimport\u001b[0m \u001b[0mcontextual_mt\u001b[0m\u001b[0;34m\u001b[0m\u001b[0;34m\u001b[0m\u001b[0m\n\u001b[0m\u001b[1;32m      4\u001b[0m \u001b[0;32mfrom\u001b[0m \u001b[0mfairseq\u001b[0m \u001b[0;32mimport\u001b[0m \u001b[0mutils\u001b[0m\u001b[0;34m,\u001b[0m \u001b[0mhub_utils\u001b[0m\u001b[0;34m\u001b[0m\u001b[0;34m\u001b[0m\u001b[0m\n\u001b[1;32m      5\u001b[0m \u001b[0;34m\u001b[0m\u001b[0m\n",
      "\u001b[0;32m/projects/tir4/users/kayoy/contextual-mt/contextual_mt/__init__.py\u001b[0m in \u001b[0;36m<module>\u001b[0;34m\u001b[0m\n\u001b[0;32m----> 1\u001b[0;31m \u001b[0;32mfrom\u001b[0m \u001b[0;34m.\u001b[0m\u001b[0mattn_reg_loss\u001b[0m \u001b[0;32mimport\u001b[0m \u001b[0mAttentionLoss\u001b[0m\u001b[0;34m\u001b[0m\u001b[0;34m\u001b[0m\u001b[0m\n\u001b[0m\u001b[1;32m      2\u001b[0m \u001b[0;32mfrom\u001b[0m \u001b[0;34m.\u001b[0m\u001b[0mcontextual_transformer\u001b[0m \u001b[0;32mimport\u001b[0m \u001b[0mContextualTransformerModel\u001b[0m\u001b[0;34m\u001b[0m\u001b[0;34m\u001b[0m\u001b[0m\n\u001b[1;32m      3\u001b[0m \u001b[0;32mfrom\u001b[0m \u001b[0;34m.\u001b[0m\u001b[0mattn_reg_transformer\u001b[0m \u001b[0;32mimport\u001b[0m \u001b[0mAttnRegTransformerModel\u001b[0m\u001b[0;34m\u001b[0m\u001b[0;34m\u001b[0m\u001b[0m\n\u001b[1;32m      4\u001b[0m \u001b[0;32mfrom\u001b[0m \u001b[0;34m.\u001b[0m\u001b[0mcontextual_dataset\u001b[0m \u001b[0;32mimport\u001b[0m \u001b[0mContextualDataset\u001b[0m\u001b[0;34m\u001b[0m\u001b[0;34m\u001b[0m\u001b[0m\n\u001b[1;32m      5\u001b[0m \u001b[0;32mfrom\u001b[0m \u001b[0;34m.\u001b[0m\u001b[0mhighlighted_dataset\u001b[0m \u001b[0;32mimport\u001b[0m \u001b[0mHighlightedDataset\u001b[0m\u001b[0;34m\u001b[0m\u001b[0;34m\u001b[0m\u001b[0m\n",
      "\u001b[0;32m/projects/tir4/users/kayoy/contextual-mt/contextual_mt/attn_reg_loss.py\u001b[0m in \u001b[0;36m<module>\u001b[0;34m\u001b[0m\n\u001b[1;32m      2\u001b[0m \u001b[0;32mfrom\u001b[0m \u001b[0mdataclasses\u001b[0m \u001b[0;32mimport\u001b[0m \u001b[0mdataclass\u001b[0m\u001b[0;34m,\u001b[0m \u001b[0mfield\u001b[0m\u001b[0;34m\u001b[0m\u001b[0;34m\u001b[0m\u001b[0m\n\u001b[1;32m      3\u001b[0m \u001b[0;34m\u001b[0m\u001b[0m\n\u001b[0;32m----> 4\u001b[0;31m \u001b[0;32mimport\u001b[0m \u001b[0mtorch\u001b[0m\u001b[0;34m\u001b[0m\u001b[0;34m\u001b[0m\u001b[0m\n\u001b[0m\u001b[1;32m      5\u001b[0m \u001b[0;32mimport\u001b[0m \u001b[0mtorch\u001b[0m\u001b[0;34m.\u001b[0m\u001b[0mnn\u001b[0m \u001b[0;32mas\u001b[0m \u001b[0mnn\u001b[0m\u001b[0;34m\u001b[0m\u001b[0;34m\u001b[0m\u001b[0m\n\u001b[1;32m      6\u001b[0m \u001b[0;32mfrom\u001b[0m \u001b[0mtorch\u001b[0m\u001b[0;34m.\u001b[0m\u001b[0mnn\u001b[0m \u001b[0;32mimport\u001b[0m \u001b[0mfunctional\u001b[0m \u001b[0;32mas\u001b[0m \u001b[0mF\u001b[0m\u001b[0;34m\u001b[0m\u001b[0;34m\u001b[0m\u001b[0m\n",
      "\u001b[0;32m~/miniconda3/envs/venv/lib/python3.8/site-packages/torch/__init__.py\u001b[0m in \u001b[0;36m<module>\u001b[0;34m\u001b[0m\n\u001b[1;32m    188\u001b[0m     \u001b[0;32mif\u001b[0m \u001b[0mUSE_GLOBAL_DEPS\u001b[0m\u001b[0;34m:\u001b[0m\u001b[0;34m\u001b[0m\u001b[0;34m\u001b[0m\u001b[0m\n\u001b[1;32m    189\u001b[0m         \u001b[0m_load_global_deps\u001b[0m\u001b[0;34m(\u001b[0m\u001b[0;34m)\u001b[0m\u001b[0;34m\u001b[0m\u001b[0;34m\u001b[0m\u001b[0m\n\u001b[0;32m--> 190\u001b[0;31m     \u001b[0;32mfrom\u001b[0m \u001b[0mtorch\u001b[0m\u001b[0;34m.\u001b[0m\u001b[0m_C\u001b[0m \u001b[0;32mimport\u001b[0m \u001b[0;34m*\u001b[0m\u001b[0;34m\u001b[0m\u001b[0;34m\u001b[0m\u001b[0m\n\u001b[0m\u001b[1;32m    191\u001b[0m \u001b[0;34m\u001b[0m\u001b[0m\n\u001b[1;32m    192\u001b[0m \u001b[0;31m# Appease the type checker; ordinarily this binding is inserted by the\u001b[0m\u001b[0;34m\u001b[0m\u001b[0;34m\u001b[0m\u001b[0;34m\u001b[0m\u001b[0m\n",
      "\u001b[0;32m~/miniconda3/envs/venv/lib/python3.8/site-packages/numpy/__init__.py\u001b[0m in \u001b[0;36m<module>\u001b[0;34m\u001b[0m\n\u001b[1;32m    149\u001b[0m     \u001b[0;32mfrom\u001b[0m \u001b[0;34m.\u001b[0m \u001b[0;32mimport\u001b[0m \u001b[0mfft\u001b[0m\u001b[0;34m\u001b[0m\u001b[0;34m\u001b[0m\u001b[0m\n\u001b[1;32m    150\u001b[0m     \u001b[0;32mfrom\u001b[0m \u001b[0;34m.\u001b[0m \u001b[0;32mimport\u001b[0m \u001b[0mpolynomial\u001b[0m\u001b[0;34m\u001b[0m\u001b[0;34m\u001b[0m\u001b[0m\n\u001b[0;32m--> 151\u001b[0;31m     \u001b[0;32mfrom\u001b[0m \u001b[0;34m.\u001b[0m \u001b[0;32mimport\u001b[0m \u001b[0mrandom\u001b[0m\u001b[0;34m\u001b[0m\u001b[0;34m\u001b[0m\u001b[0m\n\u001b[0m\u001b[1;32m    152\u001b[0m     \u001b[0;32mfrom\u001b[0m \u001b[0;34m.\u001b[0m \u001b[0;32mimport\u001b[0m \u001b[0mctypeslib\u001b[0m\u001b[0;34m\u001b[0m\u001b[0;34m\u001b[0m\u001b[0m\n\u001b[1;32m    153\u001b[0m     \u001b[0;32mfrom\u001b[0m \u001b[0;34m.\u001b[0m \u001b[0;32mimport\u001b[0m \u001b[0mma\u001b[0m\u001b[0;34m\u001b[0m\u001b[0;34m\u001b[0m\u001b[0m\n",
      "\u001b[0;32m~/miniconda3/envs/venv/lib/python3.8/site-packages/numpy/random/__init__.py\u001b[0m in \u001b[0;36m<module>\u001b[0;34m\u001b[0m\n\u001b[1;32m    177\u001b[0m \u001b[0;34m\u001b[0m\u001b[0m\n\u001b[1;32m    178\u001b[0m \u001b[0;31m# add these for module-freeze analysis (like PyInstaller)\u001b[0m\u001b[0;34m\u001b[0m\u001b[0;34m\u001b[0m\u001b[0;34m\u001b[0m\u001b[0m\n\u001b[0;32m--> 179\u001b[0;31m \u001b[0;32mfrom\u001b[0m \u001b[0;34m.\u001b[0m \u001b[0;32mimport\u001b[0m \u001b[0m_pickle\u001b[0m\u001b[0;34m\u001b[0m\u001b[0;34m\u001b[0m\u001b[0m\n\u001b[0m\u001b[1;32m    180\u001b[0m \u001b[0;32mfrom\u001b[0m \u001b[0;34m.\u001b[0m \u001b[0;32mimport\u001b[0m \u001b[0m_common\u001b[0m\u001b[0;34m\u001b[0m\u001b[0;34m\u001b[0m\u001b[0m\n\u001b[1;32m    181\u001b[0m \u001b[0;32mfrom\u001b[0m \u001b[0;34m.\u001b[0m \u001b[0;32mimport\u001b[0m \u001b[0m_bounded_integers\u001b[0m\u001b[0;34m\u001b[0m\u001b[0;34m\u001b[0m\u001b[0m\n",
      "\u001b[0;32m~/miniconda3/envs/venv/lib/python3.8/site-packages/numpy/random/_pickle.py\u001b[0m in \u001b[0;36m<module>\u001b[0;34m\u001b[0m\n\u001b[0;32m----> 1\u001b[0;31m \u001b[0;32mfrom\u001b[0m \u001b[0;34m.\u001b[0m\u001b[0mmtrand\u001b[0m \u001b[0;32mimport\u001b[0m \u001b[0mRandomState\u001b[0m\u001b[0;34m\u001b[0m\u001b[0;34m\u001b[0m\u001b[0m\n\u001b[0m\u001b[1;32m      2\u001b[0m \u001b[0;32mfrom\u001b[0m \u001b[0;34m.\u001b[0m\u001b[0m_philox\u001b[0m \u001b[0;32mimport\u001b[0m \u001b[0mPhilox\u001b[0m\u001b[0;34m\u001b[0m\u001b[0;34m\u001b[0m\u001b[0m\n\u001b[1;32m      3\u001b[0m \u001b[0;32mfrom\u001b[0m \u001b[0;34m.\u001b[0m\u001b[0m_pcg64\u001b[0m \u001b[0;32mimport\u001b[0m \u001b[0mPCG64\u001b[0m\u001b[0;34m\u001b[0m\u001b[0;34m\u001b[0m\u001b[0m\n\u001b[1;32m      4\u001b[0m \u001b[0;32mfrom\u001b[0m \u001b[0;34m.\u001b[0m\u001b[0m_sfc64\u001b[0m \u001b[0;32mimport\u001b[0m \u001b[0mSFC64\u001b[0m\u001b[0;34m\u001b[0m\u001b[0;34m\u001b[0m\u001b[0m\n\u001b[1;32m      5\u001b[0m \u001b[0;34m\u001b[0m\u001b[0m\n",
      "\u001b[0;31mImportError\u001b[0m: /home/kayoy/miniconda3/envs/venv/lib/python3.8/site-packages/numpy/random/mtrand.cpython-38-x86_64-linux-gnu.so: file too short"
     ]
    }
   ],
   "source": [
    "import os\n",
    "import sentencepiece as sp\n",
    "import contextual_mt\n",
    "from fairseq import utils, hub_utils\n",
    "\n",
    "package = hub_utils.from_pretrained(\n",
    "    model_ckpt, checkpoint_file=\"checkpoint_best.pt\"\n",
    ")\n",
    "models = package[\"models\"]\n",
    "for model in models:\n",
    "    model.cuda()\n",
    "    model.eval()\n",
    "\n",
    "# load dict, params and generator from task\n",
    "src_dict = package[\"task\"].src_dict\n",
    "tgt_dict = package[\"task\"].tgt_dict\n",
    "\n",
    "# load sentencepiece models (assumes they are in the checkpoint dirs)\n",
    "# FIXME: is there someway to have it in `package`\n",
    "if os.path.exists(os.path.join(model_ckpt, \"spm.model\")):\n",
    "    spm = sp.SentencePieceProcessor()\n",
    "    spm.Load(os.path.join(model_ckpt, \"spm.model\"))\n",
    "    src_spm = spm\n",
    "    tgt_spm = spm\n",
    "else:\n",
    "    src_spm = sp.SentencePieceProcessor()\n",
    "    src_spm.Load(os.path.join(model_ckpt, f\"spm.{source_lang}.model\"))\n",
    "    tgt_spm = sp.SentencePieceProcessor()\n",
    "    tgt_spm.Load(os.path.join(model_ckpt, f\"spm.{target_lang}.model\"))"
   ]
  },
  {
   "cell_type": "markdown",
   "metadata": {},
   "source": [
    "## Measuring CXMI\n",
    "\n",
    "To measure CXMI, we need an held-out dataset. Currently, two types of dataset are supported\n",
    "\n",
    "* A standard dataset\n",
    "* A contrastive dataset"
   ]
  },
  {
   "cell_type": "markdown",
   "metadata": {},
   "source": [
    "### Standard Dataset \n",
    "\n",
    "To measure the CXMI for standart dataset, define the source, target and docids files"
   ]
  },
  {
   "cell_type": "code",
   "execution_count": 56,
   "metadata": {
    "tags": []
   },
   "outputs": [],
   "source": [
    "source_file=\"/projects/tir1/corpora/dialogue_mt/ted-talks-aligned/test.en\"\n",
    "target_file=\"/projects/tir1/corpora/dialogue_mt/ted-talks-aligned/test.\" + target_lang\n",
    "docids_file=\"/projects/tir1/corpora/dialogue_mt/ted-talks-aligned/test.docids\"\n",
    "batch_size=8"
   ]
  },
  {
   "cell_type": "code",
   "execution_count": 3,
   "metadata": {},
   "outputs": [],
   "source": [
    "source_file=\"/projects/tir1/corpora/dialogue_mt/iwslt2017/en-fr/test.en-fr.en\"\n",
    "target_file=\"/projects/tir1/corpora/dialogue_mt/iwslt2017/en-fr/test.en-fr.fr\"\n",
    "docids_file=\"/projects/tir1/corpora/dialogue_mt/iwslt2017/en-fr/test.en-fr.docids\"\n",
    "batch_size=8"
   ]
  },
  {
   "cell_type": "markdown",
   "metadata": {},
   "source": [
    "And run the following cell to compute the corpus-level cxmi"
   ]
  },
  {
   "cell_type": "code",
   "execution_count": 4,
   "metadata": {},
   "outputs": [
    {
     "name": "stdout",
     "output_type": "stream",
     "text": [
      "-0.017390486\n"
     ]
    }
   ],
   "source": [
    "from contextual_mt.utils import parse_documents\n",
    "from contextual_mt.docmt_cxmi import compute_cxmi\n",
    "import numpy as np\n",
    "\n",
    "# load files needed\n",
    "with open(source_file, \"r\") as src_f:\n",
    "    srcs = [line.strip() for line in src_f]\n",
    "with open(docids_file, \"r\") as docids_f:\n",
    "    docids = [int(idx) for idx in docids_f]\n",
    "with open(target_file, \"r\") as tgt_f:\n",
    "    refs = [line.strip() for line in tgt_f]\n",
    "\n",
    "documents = parse_documents(srcs, refs, docids)\n",
    "sample_cxmis, ids = compute_cxmi(\n",
    "        documents,\n",
    "        models,\n",
    "        src_spm,\n",
    "        src_dict,\n",
    "        tgt_spm,\n",
    "        tgt_dict,\n",
    "        source_context_size,\n",
    "        target_context_size,\n",
    "        batch_size=batch_size\n",
    ")\n",
    "print(np.mean(sample_cxmis))"
   ]
  },
  {
   "cell_type": "markdown",
   "metadata": {},
   "source": [
    "### Contrastive dataset\n",
    "\n",
    "To compute CXMI for either ContraPro or Bawden's contrastive dataset, start by defining the dataset files"
   ]
  },
  {
   "cell_type": "code",
   "execution_count": 24,
   "metadata": {
    "tags": []
   },
   "outputs": [
    {
     "name": "stdout",
     "output_type": "stream",
     "text": [
      "0.022161597\n"
     ]
    }
   ],
   "source": [
    "import torch\n",
    "from contextual_mt.docmt_contrastive_eval import load_contrastive\n",
    "from contextual_mt.contextual_dataset import collate\n",
    "from contextual_mt.utils import encode, decode, create_context\n",
    "from fairseq.sequence_scorer import SequenceScorer\n",
    "\n",
    "bawden=True\n",
    "source_file=\"/home/pfernand/repos/discourse-mt-test-sets/test-sets/lexical_choice.current.en\"\n",
    "target_file=\"/home/pfernand/repos/discourse-mt-test-sets/test-sets/lexical_choice.current.fr\"\n",
    "src_context_file=\"/home/pfernand/repos/discourse-mt-test-sets/test-sets/lexical_choice.prev.en\"\n",
    "tgt_context_file=\"/home/pfernand/repos/discourse-mt-test-sets/test-sets/lexical_choice.prev.fr\"\n",
    "#source_file=\"/home/pfernand/repos/ContraPro/contrapro.text.en\"\n",
    "#target_file=\"/home/pfernand/repos/ContraPro/contrapro.text.de\"\n",
    "#src_context_file=\"/home/pfernand/repos/ContraPro/contrapro.context.en\"\n",
    "#tgt_context_file=\"/home/pfernand/repos/ContraPro/contrapro.context.de\"\n",
    "\n",
    "\n",
    "# load files\n",
    "srcs, all_tgts, tgt_labels, srcs_contexts, tgts_contexts = load_contrastive(\n",
    "    source_file, target_file, src_context_file, tgt_context_file, dataset=\"bawden\" if bawden else \"contrapro\"\n",
    ")\n",
    "\n",
    "scorer = SequenceScorer(tgt_dict)\n",
    "sample_cxmis = []\n",
    "corrects = []\n",
    "b_corrects = []\n",
    "for src, src_ctx, contr_tgts, tgt_ctx in zip(srcs, srcs_contexts, all_tgts, tgts_contexts):\n",
    "    src = encode(src, src_spm, src_dict)\n",
    "    src_ctx = [encode(ctx, src_spm, src_dict) for ctx in src_ctx]\n",
    "    contr_tgts = [encode(tgt, tgt_spm, tgt_dict) for tgt in contr_tgts]\n",
    "    tgt_ctx = [encode(ctx, tgt_spm, tgt_dict) for ctx in tgt_ctx]\n",
    "    baseline_samples = []\n",
    "    contextual_samples = []\n",
    "\n",
    "    for tgt in contr_tgts:\n",
    "        baseline_src_context = create_context(\n",
    "            src_ctx,\n",
    "            0,\n",
    "            break_id=src_dict.index(\"<brk>\"),\n",
    "            eos_id=src_dict.eos(),\n",
    "        )\n",
    "        baseline_tgt_context = create_context(\n",
    "            tgt_ctx,\n",
    "            0,\n",
    "            break_id=tgt_dict.index(\"<brk>\"),\n",
    "            eos_id=tgt_dict.eos(),\n",
    "        )\n",
    "        contextual_src_context = create_context(\n",
    "            src_ctx,\n",
    "            source_context_size,\n",
    "            break_id=src_dict.index(\"<brk>\"),\n",
    "            eos_id=src_dict.eos(),\n",
    "        )\n",
    "        contextual_tgt_context = create_context(\n",
    "            tgt_ctx,\n",
    "            target_context_size,\n",
    "            break_id=tgt_dict.index(\"<brk>\"),\n",
    "            eos_id=tgt_dict.eos())\n",
    "\n",
    "        full_src = torch.cat([src, torch.tensor([src_dict.eos()])])\n",
    "        full_tgt = torch.cat([tgt, torch.tensor([tgt_dict.eos()])])\n",
    "        baseline_sample = {\n",
    "            \"id\": 0,\n",
    "            \"source\": full_src,\n",
    "            \"src_context\": baseline_src_context,\n",
    "            \"target\": full_tgt,\n",
    "            \"tgt_context\": baseline_tgt_context,\n",
    "        }\n",
    "        contextual_sample = {\n",
    "            \"id\": 0,\n",
    "            \"source\": full_src,\n",
    "            \"src_context\": contextual_src_context,\n",
    "            \"target\": full_tgt,\n",
    "            \"tgt_context\": contextual_tgt_context,\n",
    "        }\n",
    "        baseline_samples.append(baseline_sample)\n",
    "        contextual_samples.append(contextual_sample)\n",
    "\n",
    "    baseline_sample = collate(\n",
    "        baseline_samples,\n",
    "        pad_id=src_dict.pad(),\n",
    "        eos_id=src_dict.eos(),\n",
    "    )\n",
    "    contextual_sample = collate(\n",
    "        contextual_samples,\n",
    "        pad_id=src_dict.pad(),\n",
    "        eos_id=src_dict.eos()\n",
    "    )\n",
    "\n",
    "    baseline_sample = utils.move_to_cuda(baseline_sample)\n",
    "    contextual_sample = utils.move_to_cuda(contextual_sample)\n",
    "\n",
    "    baseline_out = scorer.generate(models, baseline_sample)\n",
    "    contextual_out = scorer.generate(models, contextual_sample)\n",
    "\n",
    "    scores = [h[0][\"score\"] for h in contextual_out]\n",
    "\n",
    "    most_likely = torch.argmax(torch.stack(scores))\n",
    "    correct = most_likely == 0\n",
    "    baseline_correct = torch.argmax(torch.stack([h[0][\"score\"] for h in baseline_out])) == 0\n",
    "\n",
    "    b_corrects.append(baseline_correct)\n",
    "    corrects.append(correct)\n",
    "    sample_cxmis.append(contextual_out[0][0][\"score\"].cpu() - baseline_out[0][0][\"score\"].cpu())\n",
    "\n",
    "corrects = np.stack([correct.cpu().numpy() for correct in corrects])\n",
    "b_corrects = np.stack([b_correct.cpu().numpy() for b_correct in b_corrects])\n",
    "print(np.mean(sample_cxmis))"
   ]
  },
  {
   "cell_type": "markdown",
   "metadata": {},
   "source": [
    "#### Measuring Correlations\n",
    "\n",
    "To measure the correlation of the *per-sample* CXMI with the performance on samples that requires context, run"
   ]
  },
  {
   "cell_type": "code",
   "execution_count": 27,
   "metadata": {
    "tags": []
   },
   "outputs": [
    {
     "name": "stdout",
     "output_type": "stream",
     "text": [
      "PointbiserialrResult(correlation=0.025460697287605066, pvalue=0.7204408014491894)\n"
     ]
    }
   ],
   "source": [
    "from scipy import stats\n",
    "\n",
    "binary_vars = np.stack([not b_c and c for b_c, c in zip(b_corrects, corrects)])\n",
    "print(scipy.stats.pointbiserialr(binary_vars, sample_cxmis))"
   ]
  },
  {
   "cell_type": "markdown",
   "metadata": {},
   "source": [
    "### Analysing Samples\n",
    "\n",
    "**TODO**"
   ]
  },
  {
   "cell_type": "code",
   "execution_count": 58,
   "metadata": {},
   "outputs": [],
   "source": [
    "from IPython.display import Markdown, display\n",
    "\n",
    "def print_coloured(subwords, weights, max_alpha=0.8):\n",
    "    text = []\n",
    "    colour = [\"250, 133, 205\" if w >= 0 else \"135,206,250\" for w in weights]\n",
    "    weights = np.abs(weights)\n",
    "    weights = weights / np.max(weights)\n",
    "    for i, subword in enumerate(subwords):\n",
    "        if subword[0] == \"▁\":\n",
    "            subword = subword[1:]\n",
    "            if i:\n",
    "                text.append(\" \")\n",
    "        colorstr = f\"<span style='background-color:rgba({colour[i]},{weights[i] / max_alpha:.03f}'>{subword}</span>\"\n",
    "        text.append(colorstr)\n",
    "    display(Markdown(\" \".join(text)))"
   ]
  },
  {
   "cell_type": "code",
   "execution_count": 50,
   "metadata": {},
   "outputs": [],
   "source": [
    "ja_word_cxmis = word_cxmis"
   ]
  },
  {
   "cell_type": "code",
   "execution_count": 59,
   "metadata": {
    "tags": []
   },
   "outputs": [],
   "source": [
    "ko_word_cxmis, ids2 = compute_cxmi(\n",
    "        documents,\n",
    "        models,\n",
    "        src_spm,\n",
    "        src_dict,\n",
    "        tgt_spm,\n",
    "        tgt_dict,\n",
    "        source_context_size,\n",
    "        target_context_size,\n",
    "        batch_size=batch_size,\n",
    "        token_level=True\n",
    ")\n",
    "assert ids2 == ids"
   ]
  },
  {
   "cell_type": "code",
   "execution_count": 60,
   "metadata": {},
   "outputs": [
    {
     "name": "stdout",
     "output_type": "stream",
     "text": [
      "0\n",
      "src_context: \"Sure , she had aged a little .\"\n",
      "tgt_context: \"그래 , 물론 그녀도 좀 나이를 먹었다 .\"\n",
      "src: \"In fact , she had aged a lot .\"\n"
     ]
    },
    {
     "data": {
      "text/markdown": [
       "<span style='background-color:rgba(250, 133, 205,0.001'>\"</span> <span style='background-color:rgba(135,206,250,0.419'>뭐</span>   <span style='background-color:rgba(250, 133, 205,0.017'>사실</span>   <span style='background-color:rgba(135,206,250,0.004'>,</span>   <span style='background-color:rgba(250, 133, 205,0.371'>많이</span>   <span style='background-color:rgba(135,206,250,0.439'>먹</span> <span style='background-color:rgba(135,206,250,1.250'>었다</span>   <span style='background-color:rgba(135,206,250,0.459'>.\"</span>"
      ],
      "text/plain": [
       "<IPython.core.display.Markdown object>"
      ]
     },
     "metadata": {},
     "output_type": "display_data"
    },
    {
     "name": "stdout",
     "output_type": "stream",
     "text": [
      "1\n",
      "src_context: \"But he looked at me , and he said , &quot; &quot; Son &quot; &quot; — he &apos;s my age , by the way , he calls me son , I love that — he says , &quot; &quot; Son , I &apos;m a captain of a crab boat .\"\n",
      "tgt_context: \"그는 저를 바라보며 “ 젊은이 … 그는 제 또래였는데 , 근데 , 저를 젊은이라고 부르더군요 , 뭐 괜찮았어요 … 그는 “ 젊은이 , 나는 이 게잡이 배의 선장이다 .\"\n",
      "src: \"My responsibility is not to get you home alive .\"\n"
     ]
    },
    {
     "data": {
      "text/markdown": [
       "<span style='background-color:rgba(250, 133, 205,0.000'>\"</span> <span style='background-color:rgba(135,206,250,0.862'>내</span>   <span style='background-color:rgba(250, 133, 205,0.091'>일은</span>   <span style='background-color:rgba(135,206,250,0.322'>널</span>   <span style='background-color:rgba(135,206,250,0.030'>안전하게</span>   <span style='background-color:rgba(135,206,250,0.672'>집에</span>   <span style='background-color:rgba(135,206,250,0.006'>보내는</span>   <span style='background-color:rgba(135,206,250,0.122'>게</span>   <span style='background-color:rgba(135,206,250,1.250'>아니다</span>   <span style='background-color:rgba(135,206,250,0.001'>.\"</span>"
      ],
      "text/plain": [
       "<IPython.core.display.Markdown object>"
      ]
     },
     "metadata": {},
     "output_type": "display_data"
    },
    {
     "name": "stdout",
     "output_type": "stream",
     "text": [
      "2\n",
      "src_context: \"No , if you want to know what society &apos;s going to be like in 20 years , ask a kindergarten teacher .\"\n",
      "tgt_context: \"20년 후 사회가 어떤 모습일지 정말로 알고 싶으시다면 , 유치원 교사분들께 여쭤보세요 .\"\n",
      "src: \"They know .\"\n"
     ]
    },
    {
     "data": {
      "text/markdown": [
       "<span style='background-color:rgba(250, 133, 205,0.002'>\"</span> <span style='background-color:rgba(135,206,250,0.346'>그</span>   <span style='background-color:rgba(135,206,250,1.250'>분들은</span>   <span style='background-color:rgba(250, 133, 205,0.298'>알아요</span>   <span style='background-color:rgba(250, 133, 205,0.024'>.\"</span>"
      ],
      "text/plain": [
       "<IPython.core.display.Markdown object>"
      ]
     },
     "metadata": {},
     "output_type": "display_data"
    },
    {
     "name": "stdout",
     "output_type": "stream",
     "text": [
      "3\n",
      "src_context: \"Boy : It &apos;s lighting up .\"\n",
      "tgt_context: \"소년 : 불이 들어오잖아 .\"\n",
      "src: \"So when you put four .\"\n"
     ]
    },
    {
     "data": {
      "text/markdown": [
       "<span style='background-color:rgba(135,206,250,0.031'>\"</span> <span style='background-color:rgba(135,206,250,0.232'>그럼</span>   <span style='background-color:rgba(250, 133, 205,0.042'>4</span> <span style='background-color:rgba(135,206,250,0.012'>개를</span>   <span style='background-color:rgba(135,206,250,0.063'>올려</span>   <span style='background-color:rgba(135,206,250,0.070'>놓으면</span>   <span style='background-color:rgba(135,206,250,0.345'>되</span> <span style='background-color:rgba(135,206,250,1.250'>네</span>   <span style='background-color:rgba(135,206,250,0.015'>.\"</span>"
      ],
      "text/plain": [
       "<IPython.core.display.Markdown object>"
      ]
     },
     "metadata": {},
     "output_type": "display_data"
    },
    {
     "name": "stdout",
     "output_type": "stream",
     "text": [
      "4\n",
      "src_context: \"The earth moved for both of them .\"\n",
      "tgt_context: \"그둘 모두 오르가즘에 도달했다 .\"\n",
      "src: \"And they lived together happily ever after .\"\n"
     ]
    },
    {
     "data": {
      "text/markdown": [
       "<span style='background-color:rgba(250, 133, 205,0.002'>\"</span> <span style='background-color:rgba(250, 133, 205,0.004'>그리고</span>   <span style='background-color:rgba(250, 133, 205,0.029'>두</span>   <span style='background-color:rgba(250, 133, 205,0.274'>커플</span> <span style='background-color:rgba(250, 133, 205,0.016'>은</span>   <span style='background-color:rgba(250, 133, 205,0.003'>오래</span> <span style='background-color:rgba(250, 133, 205,0.088'>도록</span>   <span style='background-color:rgba(135,206,250,0.135'>행복하게</span>   <span style='background-color:rgba(135,206,250,0.297'>살았</span> <span style='background-color:rgba(135,206,250,1.250'>다</span>   <span style='background-color:rgba(135,206,250,0.030'>.\"</span>"
      ],
      "text/plain": [
       "<IPython.core.display.Markdown object>"
      ]
     },
     "metadata": {},
     "output_type": "display_data"
    },
    {
     "name": "stdout",
     "output_type": "stream",
     "text": [
      "5\n",
      "src_context: \"So obviously when we think about nonverbal behavior , or body language — but we call it nonverbals as social scientists — it &apos;s language , so we think about communication .\"\n",
      "tgt_context: \"비언어적 행동이나 바디랭귀지를 보통 사회과학자들은 비언어라고 부르는데요 . 그것도 일종의 언어에요 . 그래서 소통이란것은\"\n",
      "src: \"When we think about communication , we think about interactions .\"\n"
     ]
    },
    {
     "data": {
      "text/markdown": [
       "<span style='background-color:rgba(250, 133, 205,0.005'>\"</span> <span style='background-color:rgba(135,206,250,0.896'>상</span> <span style='background-color:rgba(250, 133, 205,0.234'>호</span> <span style='background-color:rgba(135,206,250,0.324'>적인</span>   <span style='background-color:rgba(250, 133, 205,0.237'>작용</span> <span style='background-color:rgba(135,206,250,0.071'>이라고</span>   <span style='background-color:rgba(135,206,250,0.870'>할수</span>   <span style='background-color:rgba(135,206,250,1.215'>있죠</span>   <span style='background-color:rgba(135,206,250,1.250'>.\"</span>"
      ],
      "text/plain": [
       "<IPython.core.display.Markdown object>"
      ]
     },
     "metadata": {},
     "output_type": "display_data"
    },
    {
     "name": "stdout",
     "output_type": "stream",
     "text": [
      "6\n",
      "src_context: \"It &apos;s the interchange of ideas , the meeting and mating of ideas between them , that is causing technological progress , incrementally , bit by bit .\"\n",
      "tgt_context: \"아이디어를 서로 교환하고 , 아이디어간의 만남과 조합이 기술적인 진보를 점진적으로 이루어내는 것입니다\"\n",
      "src: \"However , bad things happen .\"\n"
     ]
    },
    {
     "data": {
      "text/markdown": [
       "<span style='background-color:rgba(250, 133, 205,0.001'>\"</span> <span style='background-color:rgba(135,206,250,0.025'>하지만</span>   <span style='background-color:rgba(250, 133, 205,0.029'>나쁜</span>   <span style='background-color:rgba(135,206,250,0.164'>일</span> <span style='background-color:rgba(250, 133, 205,0.092'>들도</span>   <span style='background-color:rgba(135,206,250,0.062'>일어납니다</span> <span style='background-color:rgba(135,206,250,1.250'>\"</span>"
      ],
      "text/plain": [
       "<IPython.core.display.Markdown object>"
      ]
     },
     "metadata": {},
     "output_type": "display_data"
    },
    {
     "name": "stdout",
     "output_type": "stream",
     "text": [
      "7\n",
      "src_context: \"However , some of the facility authority doesn &apos;t want us to do it , because , they said , simply , it &apos;s become more difficult to control them .\"\n",
      "tgt_context: \"하지만 여러 기관에서 우리가 하는 하는일을 원치 않았어요 , 왜냐하면 사람들을 관리하기가 더 어려워졌기 때문이었습니다 .\"\n",
      "src: \"But it &apos;s really necessary to do it .\"\n"
     ]
    },
    {
     "data": {
      "text/markdown": [
       "<span style='background-color:rgba(250, 133, 205,0.002'>\"</span> <span style='background-color:rgba(135,206,250,0.002'>하지만</span>   <span style='background-color:rgba(250, 133, 205,0.366'>이것은</span>   <span style='background-color:rgba(135,206,250,0.149'>꼭</span>   <span style='background-color:rgba(250, 133, 205,0.016'>필요한</span>   <span style='background-color:rgba(135,206,250,0.288'>일이</span> <span style='background-color:rgba(135,206,250,1.250'>었어요</span>   <span style='background-color:rgba(135,206,250,0.028'>.\"</span>"
      ],
      "text/plain": [
       "<IPython.core.display.Markdown object>"
      ]
     },
     "metadata": {},
     "output_type": "display_data"
    },
    {
     "name": "stdout",
     "output_type": "stream",
     "text": [
      "8\n",
      "src_context: \"Let me know when you &apos;ve got them . Let &apos;s shoot .\"\n",
      "tgt_context: \"그놈들 잡으면 알려줘 . 발사 .\"\n",
      "src: \"Light &apos; em all up .\"\n"
     ]
    },
    {
     "data": {
      "text/markdown": [
       "<span style='background-color:rgba(135,206,250,0.001'>\"</span> <span style='background-color:rgba(135,206,250,0.416'>다</span>   <span style='background-color:rgba(250, 133, 205,0.098'>날려</span> <span style='background-color:rgba(135,206,250,0.166'>버려</span>   <span style='background-color:rgba(135,206,250,1.250'>.\"</span>"
      ],
      "text/plain": [
       "<IPython.core.display.Markdown object>"
      ]
     },
     "metadata": {},
     "output_type": "display_data"
    },
    {
     "name": "stdout",
     "output_type": "stream",
     "text": [
      "9\n",
      "src_context: \"There &apos;s a clock , clock , clock , clock .\"\n",
      "tgt_context: \"거기에 시계 , 시계 , 시계 , 시계가 있었어요 .\"\n",
      "src: \"The time &apos;s going backwards because I &apos;m inside of it .\"\n"
     ]
    },
    {
     "data": {
      "text/markdown": [
       "<span style='background-color:rgba(250, 133, 205,0.001'>\"</span> <span style='background-color:rgba(250, 133, 205,0.109'>시간</span> <span style='background-color:rgba(250, 133, 205,0.050'>은</span>   <span style='background-color:rgba(250, 133, 205,0.094'>거꾸로</span>   <span style='background-color:rgba(250, 133, 205,0.068'>가</span> <span style='background-color:rgba(135,206,250,0.422'>요</span>   <span style='background-color:rgba(135,206,250,0.078'>,</span>   <span style='background-color:rgba(250, 133, 205,0.031'>왜냐하면</span>   <span style='background-color:rgba(250, 133, 205,0.160'>저는</span>   <span style='background-color:rgba(135,206,250,1.250'>시계</span>   <span style='background-color:rgba(250, 133, 205,0.037'>안에</span>   <span style='background-color:rgba(135,206,250,0.079'>있으니까요</span>   <span style='background-color:rgba(135,206,250,0.004'>.\"</span>"
      ],
      "text/plain": [
       "<IPython.core.display.Markdown object>"
      ]
     },
     "metadata": {},
     "output_type": "display_data"
    },
    {
     "name": "stdout",
     "output_type": "stream",
     "text": [
      "10\n",
      "src_context: \"I will not dance to that beating .\"\n",
      "tgt_context: \"나는 그 울림에 맞춰 춤추지 않겠습니다 .\"\n",
      "src: \"I know that beat .\"\n"
     ]
    },
    {
     "data": {
      "text/markdown": [
       "<span style='background-color:rgba(250, 133, 205,0.001'>\"</span> <span style='background-color:rgba(135,206,250,1.250'>나는</span>   <span style='background-color:rgba(135,206,250,0.123'>그</span>   <span style='background-color:rgba(135,206,250,0.035'>리듬</span> <span style='background-color:rgba(250, 133, 205,0.011'>을</span>   <span style='background-color:rgba(135,206,250,0.010'>압니다</span>   <span style='background-color:rgba(135,206,250,0.022'>.\"</span>"
      ],
      "text/plain": [
       "<IPython.core.display.Markdown object>"
      ]
     },
     "metadata": {},
     "output_type": "display_data"
    },
    {
     "name": "stdout",
     "output_type": "stream",
     "text": [
      "11\n",
      "src_context: \"And by the way , that &apos;s one of the reasons that I &apos;m not interested in the debate about I.Q. , about whether some groups have higher I.Q.s than other groups .\"\n",
      "tgt_context: \"덧붙여 말씀드리면 , 그것이 바로 제가 아이큐와 관련된 논쟁에 흥미를 가지지 않는 이유중 하나입니다 어떤 집단들이 다른 집단들보다 더 높은 아이큐를 가져느냐 아느냐 하는 논쟁들 말이죠\"\n",
      "src: \"It &apos;s completely irrelevant .\"\n"
     ]
    },
    {
     "data": {
      "text/markdown": [
       "<span style='background-color:rgba(250, 133, 205,0.002'>\"</span> <span style='background-color:rgba(135,206,250,0.116'>정말</span>   <span style='background-color:rgba(250, 133, 205,0.001'>부</span> <span style='background-color:rgba(135,206,250,0.103'>질</span> <span style='background-color:rgba(250, 133, 205,0.022'>없는</span>   <span style='background-color:rgba(135,206,250,0.737'>논쟁</span> <span style='background-color:rgba(250, 133, 205,0.112'>입니다</span> <span style='background-color:rgba(135,206,250,1.250'>\"</span>"
      ],
      "text/plain": [
       "<IPython.core.display.Markdown object>"
      ]
     },
     "metadata": {},
     "output_type": "display_data"
    },
    {
     "name": "stdout",
     "output_type": "stream",
     "text": [
      "12\n",
      "src_context: \"Gusty entered her boldly and made love to her rhythmically while she filmed him , because she was a keen amateur pornographer .\"\n",
      "tgt_context: \"거스티는 용감하게 그녀의 몸으로 돌진해 리드미컬하게 그녀와 사랑을 나눴다 . 그녀가 그를 촬영하는 동안 , 아 , 그녀는 아마추어 포르노작가였다 .\"\n",
      "src: \"The earth moved for both of them .\"\n"
     ]
    },
    {
     "data": {
      "text/markdown": [
       "<span style='background-color:rgba(135,206,250,0.001'>\"</span> <span style='background-color:rgba(135,206,250,0.339'>그</span> <span style='background-color:rgba(250, 133, 205,0.134'>둘</span>   <span style='background-color:rgba(135,206,250,0.061'>모두</span>   <span style='background-color:rgba(250, 133, 205,0.155'>오르</span> <span style='background-color:rgba(250, 133, 205,0.012'>가</span> <span style='background-color:rgba(135,206,250,0.011'>즘</span> <span style='background-color:rgba(135,206,250,0.017'>에</span>   <span style='background-color:rgba(250, 133, 205,0.145'>도달</span> <span style='background-color:rgba(135,206,250,1.250'>했다</span>   <span style='background-color:rgba(135,206,250,0.168'>.\"</span>"
      ],
      "text/plain": [
       "<IPython.core.display.Markdown object>"
      ]
     },
     "metadata": {},
     "output_type": "display_data"
    },
    {
     "name": "stdout",
     "output_type": "stream",
     "text": [
      "13\n",
      "src_context: \"The miracle of your mind isn &apos;t that you can see the world as it is .\"\n",
      "tgt_context: \"우리 의식의 기적은 세상을 사실대로 보는것에 있지 아니하고 ,\"\n",
      "src: \"It &apos;s that you can see the world as it isn &apos;t .\"\n"
     ]
    },
    {
     "data": {
      "text/markdown": [
       "<span style='background-color:rgba(250, 133, 205,0.001'>\"</span> <span style='background-color:rgba(135,206,250,0.899'>사실</span> <span style='background-color:rgba(135,206,250,1.169'>이</span>   <span style='background-color:rgba(135,206,250,1.250'>아닌</span> <span style='background-color:rgba(135,206,250,0.425'>대로</span>   <span style='background-color:rgba(135,206,250,0.888'>볼</span>   <span style='background-color:rgba(250, 133, 205,0.012'>수</span>   <span style='background-color:rgba(135,206,250,0.293'>있다는</span>   <span style='background-color:rgba(135,206,250,0.255'>것입니다</span>   <span style='background-color:rgba(135,206,250,0.008'>.\"</span>"
      ],
      "text/plain": [
       "<IPython.core.display.Markdown object>"
      ]
     },
     "metadata": {},
     "output_type": "display_data"
    },
    {
     "name": "stdout",
     "output_type": "stream",
     "text": [
      "14\n",
      "src_context: \"And in the future , as we go forward , we will , of course , experience terrible things .\"\n",
      "tgt_context: \"미래의 언젠가 우리는 물론 끔찍한 일들도 겪을 것입니다\"\n",
      "src: \"There will be wars ; there will be depressions ; there will be natural disasters .\"\n"
     ]
    },
    {
     "data": {
      "text/markdown": [
       "<span style='background-color:rgba(250, 133, 205,0.000'>\"</span> <span style='background-color:rgba(135,206,250,0.000'>전쟁</span> <span style='background-color:rgba(135,206,250,0.018'>도</span>   <span style='background-color:rgba(135,206,250,0.020'>있을</span>   <span style='background-color:rgba(250, 133, 205,0.080'>수</span>   <span style='background-color:rgba(250, 133, 205,0.012'>있고</span>   <span style='background-color:rgba(135,206,250,0.023'>경기</span> <span style='background-color:rgba(250, 133, 205,0.073'>침</span> <span style='background-color:rgba(135,206,250,0.035'>체</span> <span style='background-color:rgba(250, 133, 205,0.010'>도</span>   <span style='background-color:rgba(250, 133, 205,0.002'>있을</span>   <span style='background-color:rgba(135,206,250,0.035'>것입니다</span>   <span style='background-color:rgba(135,206,250,1.250'>자연</span>   <span style='background-color:rgba(250, 133, 205,0.006'>재</span> <span style='background-color:rgba(250, 133, 205,0.087'>해도</span>   <span style='background-color:rgba(250, 133, 205,0.003'>마찬가지죠</span> <span style='background-color:rgba(135,206,250,0.067'>\"</span>"
      ],
      "text/plain": [
       "<IPython.core.display.Markdown object>"
      ]
     },
     "metadata": {},
     "output_type": "display_data"
    },
    {
     "name": "stdout",
     "output_type": "stream",
     "text": [
      "15\n",
      "src_context: \"What would be the price ?\"\n",
      "tgt_context: \"비용은 얼마나 드는지\"\n",
      "src: \"What should we do about it , and what will be the outcome ?\"\n"
     ]
    },
    {
     "data": {
      "text/markdown": [
       "<span style='background-color:rgba(250, 133, 205,0.001'>\"</span> <span style='background-color:rgba(135,206,250,0.613'>무엇을</span>   <span style='background-color:rgba(250, 133, 205,0.032'>해야</span> <span style='background-color:rgba(135,206,250,0.898'>하며</span>   <span style='background-color:rgba(135,206,250,0.521'>거기서</span>   <span style='background-color:rgba(135,206,250,0.510'>얻는</span>   <span style='background-color:rgba(250, 133, 205,0.296'>것이</span>   <span style='background-color:rgba(135,206,250,0.078'>무엇인지</span> <span style='background-color:rgba(135,206,250,1.250'>\"</span>"
      ],
      "text/plain": [
       "<IPython.core.display.Markdown object>"
      ]
     },
     "metadata": {},
     "output_type": "display_data"
    },
    {
     "name": "stdout",
     "output_type": "stream",
     "text": [
      "16\n",
      "src_context: \"Melanie picks up the lamb — two hands — one hand on both legs on the right , likewise on the left .\"\n",
      "tgt_context: \"멜라니가 두 손으로 양을 들어 올립니다 . 한 손으로 오른쪽 두 발을 잡고 , 다른 손으로 왼쪽의 두 발을 잡았습니다 .\"\n",
      "src: \"Lamb goes on the post , she opens it up .\"\n"
     ]
    },
    {
     "data": {
      "text/markdown": [
       "<span style='background-color:rgba(250, 133, 205,0.003'>\"</span> <span style='background-color:rgba(135,206,250,1.250'>양을</span>   <span style='background-color:rgba(250, 133, 205,0.109'>기둥</span> <span style='background-color:rgba(250, 133, 205,0.082'>에</span>   <span style='background-color:rgba(135,206,250,0.456'>얹</span> <span style='background-color:rgba(135,206,250,0.171'>고</span>   <span style='background-color:rgba(135,206,250,0.192'>,</span>   <span style='background-color:rgba(135,206,250,0.614'>다리를</span>   <span style='background-color:rgba(135,206,250,0.079'>벌</span> <span style='background-color:rgba(135,206,250,0.554'>립니다</span>   <span style='background-color:rgba(135,206,250,0.006'>.\"</span>"
      ],
      "text/plain": [
       "<IPython.core.display.Markdown object>"
      ]
     },
     "metadata": {},
     "output_type": "display_data"
    },
    {
     "name": "stdout",
     "output_type": "stream",
     "text": [
      "17\n",
      "src_context: \"So I thought , even as architects , we can be involved in the reconstruction of temporary housing .\"\n",
      "tgt_context: \"그래서 건축가로써 생각해봤습니다 . 우리는 임시 주거 공간의 재건축에 참여할수 있겠구나 .\"\n",
      "src: \"We can make it better .\"\n"
     ]
    },
    {
     "data": {
      "text/markdown": [
       "<span style='background-color:rgba(250, 133, 205,0.001'>\"</span> <span style='background-color:rgba(250, 133, 205,0.065'>우리가</span>   <span style='background-color:rgba(135,206,250,0.255'>좀</span>   <span style='background-color:rgba(135,206,250,0.001'>더</span>   <span style='background-color:rgba(250, 133, 205,0.005'>나은</span>   <span style='background-color:rgba(250, 133, 205,0.363'>환경을</span>   <span style='background-color:rgba(135,206,250,0.070'>만들수</span>   <span style='background-color:rgba(135,206,250,1.250'>있을거야</span>   <span style='background-color:rgba(135,206,250,0.007'>.\"</span>"
      ],
      "text/plain": [
       "<IPython.core.display.Markdown object>"
      ]
     },
     "metadata": {},
     "output_type": "display_data"
    },
    {
     "name": "stdout",
     "output_type": "stream",
     "text": [
      "18\n",
      "src_context: \"And I &apos;ll tell you now , that East Asianers , people from East Asia , are far more knowledgeable about the West than the West is about East Asia .\"\n",
      "tgt_context: \"말하자면 동아시아인 , 동아시아의 사람들은 서양이 동아시아에 대해 아는 것보다 서양에 대해 훨씬 많이 알고 있습니다 .\"\n",
      "src: \"Now this point is very germane , I &apos;m afraid , to the present .\"\n"
     ]
    },
    {
     "data": {
      "text/markdown": [
       "<span style='background-color:rgba(250, 133, 205,0.007'>\"</span> <span style='background-color:rgba(135,206,250,0.036'>안타깝게도</span>   <span style='background-color:rgba(135,206,250,1.250'>현재는</span>   <span style='background-color:rgba(135,206,250,0.551'>더욱</span>   <span style='background-color:rgba(135,206,250,0.706'>그렇습니다</span>   <span style='background-color:rgba(135,206,250,0.056'>.\"</span>"
      ],
      "text/plain": [
       "<IPython.core.display.Markdown object>"
      ]
     },
     "metadata": {},
     "output_type": "display_data"
    },
    {
     "name": "stdout",
     "output_type": "stream",
     "text": [
      "19\n",
      "src_context: \"So I was like , okay , so we &apos;ve got the formula ready .\"\n",
      "tgt_context: \"저는 마치 , 그래 좋아 , 이제 공식은 준비됐어 , 라고 하는 식이었어요 .\"\n",
      "src: \"Now we need to get this thing into practice .\"\n"
     ]
    },
    {
     "data": {
      "text/markdown": [
       "<span style='background-color:rgba(250, 133, 205,0.003'>\"</span> <span style='background-color:rgba(250, 133, 205,0.011'>이제</span>   <span style='background-color:rgba(135,206,250,0.168'>이걸</span>   <span style='background-color:rgba(250, 133, 205,0.117'>실용</span> <span style='background-color:rgba(135,206,250,0.086'>화하기</span> <span style='background-color:rgba(135,206,250,0.024'>만</span>   <span style='background-color:rgba(135,206,250,0.004'>하면</span>   <span style='background-color:rgba(135,206,250,0.237'>되는</span> <span style='background-color:rgba(135,206,250,0.338'>거</span> <span style='background-color:rgba(135,206,250,1.250'>였어요</span>   <span style='background-color:rgba(135,206,250,0.020'>.\"</span>"
      ],
      "text/plain": [
       "<IPython.core.display.Markdown object>"
      ]
     },
     "metadata": {},
     "output_type": "display_data"
    },
    {
     "name": "stdout",
     "output_type": "stream",
     "text": [
      "20\n",
      "src_context: \"So we &apos;ve created something called the collective brain .\"\n",
      "tgt_context: \"우리는 그래서 집단 지성이라는 개념을 만들어 냈습니다\"\n",
      "src: \"We &apos;re just the nodes in the network .\"\n"
     ]
    },
    {
     "data": {
      "text/markdown": [
       "<span style='background-color:rgba(250, 133, 205,0.002'>\"</span> <span style='background-color:rgba(135,206,250,0.033'>우리는</span>   <span style='background-color:rgba(250, 133, 205,0.074'>네트워크의</span>   <span style='background-color:rgba(250, 133, 205,0.076'>매</span> <span style='background-color:rgba(135,206,250,0.055'>듭</span> <span style='background-color:rgba(135,206,250,0.196'>점</span> <span style='background-color:rgba(250, 133, 205,0.025'>일</span>   <span style='background-color:rgba(135,206,250,0.044'>뿐이죠</span> <span style='background-color:rgba(135,206,250,1.250'>\"</span>"
      ],
      "text/plain": [
       "<IPython.core.display.Markdown object>"
      ]
     },
     "metadata": {},
     "output_type": "display_data"
    },
    {
     "name": "stdout",
     "output_type": "stream",
     "text": [
      "21\n",
      "src_context: \"And I &apos;m thinking , &quot; &quot; Oh yeah , the square root of the length is proportional to its period . &quot; &quot; ( Laughter ) I keep climbing up , go back .\"\n",
      "tgt_context: \"그리고 저는 생각해요 , 그래 맞아 , 길이의 제곱근은 그것의 구간에 비례해 . ( 웃음 ) 저는 다시 계속 올라가요 .\"\n",
      "src: \"I go to a place where a dowel splits off .\"\n"
     ]
    },
    {
     "data": {
      "text/markdown": [
       "<span style='background-color:rgba(250, 133, 205,0.001'>\"</span> <span style='background-color:rgba(135,206,250,0.381'>저는</span>   <span style='background-color:rgba(135,206,250,0.316'>맞춤</span> <span style='background-color:rgba(135,206,250,0.195'>못</span> <span style='background-color:rgba(135,206,250,0.019'>이</span>   <span style='background-color:rgba(250, 133, 205,0.060'>갈라</span> <span style='background-color:rgba(250, 133, 205,0.043'>지는</span>   <span style='background-color:rgba(135,206,250,0.012'>곳으로</span>   <span style='background-color:rgba(135,206,250,0.130'>가</span> <span style='background-color:rgba(135,206,250,1.250'>요</span>   <span style='background-color:rgba(135,206,250,0.076'>.\"</span>"
      ],
      "text/plain": [
       "<IPython.core.display.Markdown object>"
      ]
     },
     "metadata": {},
     "output_type": "display_data"
    },
    {
     "name": "stdout",
     "output_type": "stream",
     "text": [
      "22\n",
      "src_context: \"I &apos;m saying , &quot; &quot; I got to clear out of here ! &quot; &quot; I go running across campus quick as I can . I duck into Hayes Hall .\"\n",
      "tgt_context: \"저는 말해요 , &quot; &quot; 여기서 벗어나야겠어 ! &quot; &quot; 저는 최대한 빨리 캠퍼스를 가로질러 달려요 . 저는 헤이스 홀에 숨어요 .\"\n",
      "src: \"It &apos;s one of these bell-tower buildings .\"\n"
     ]
    },
    {
     "data": {
      "text/markdown": [
       "<span style='background-color:rgba(250, 133, 205,0.003'>\"</span> <span style='background-color:rgba(135,206,250,0.508'>그것은</span>   <span style='background-color:rgba(250, 133, 205,0.101'>종</span> <span style='background-color:rgba(135,206,250,0.518'>탑</span>   <span style='background-color:rgba(135,206,250,0.018'>건물</span>   <span style='background-color:rgba(250, 133, 205,0.231'>중</span>   <span style='background-color:rgba(135,206,250,0.186'>하나</span> <span style='background-color:rgba(135,206,250,1.250'>에요</span>   <span style='background-color:rgba(135,206,250,0.028'>.\"</span>"
      ],
      "text/plain": [
       "<IPython.core.display.Markdown object>"
      ]
     },
     "metadata": {},
     "output_type": "display_data"
    },
    {
     "name": "stdout",
     "output_type": "stream",
     "text": [
      "23\n",
      "src_context: \"All right , we just engaged all eight individuals .\"\n",
      "tgt_context: \"알았다 . 우린 적 8명과 교전 중이다 .\"\n",
      "src: \"Yeah , we see two birds &#91; helicopters &#93; , and we &apos;re still firing .\"\n"
     ]
    },
    {
     "data": {
      "text/markdown": [
       "<span style='background-color:rgba(135,206,250,0.001'>\"</span> <span style='background-color:rgba(135,206,250,1.250'>그래</span>   <span style='background-color:rgba(250, 133, 205,0.049'>,</span>   <span style='background-color:rgba(135,206,250,0.552'>새</span>   <span style='background-color:rgba(250, 133, 205,0.171'>(</span>   <span style='background-color:rgba(250, 133, 205,0.009'>헬리콥터</span>   <span style='background-color:rgba(250, 133, 205,0.081'>)</span>   <span style='background-color:rgba(135,206,250,0.040'>두</span>   <span style='background-color:rgba(135,206,250,0.054'>마리가</span>   <span style='background-color:rgba(135,206,250,0.365'>보인</span> <span style='background-color:rgba(135,206,250,0.697'>다</span>   <span style='background-color:rgba(135,206,250,0.268'>.</span>   <span style='background-color:rgba(250, 133, 205,0.115'>계속</span>   <span style='background-color:rgba(250, 133, 205,0.076'>사</span> <span style='background-color:rgba(135,206,250,0.015'>격</span> <span style='background-color:rgba(135,206,250,0.065'>하</span> <span style='background-color:rgba(135,206,250,0.283'>겠다</span>   <span style='background-color:rgba(135,206,250,0.084'>.\"</span>"
      ],
      "text/plain": [
       "<IPython.core.display.Markdown object>"
      ]
     },
     "metadata": {},
     "output_type": "display_data"
    },
    {
     "name": "stdout",
     "output_type": "stream",
     "text": [
      "24\n",
      "src_context: \"I will not forget where I come from .\"\n",
      "tgt_context: \"나는 내가 어디로부터 왔는지 잊지 않겠습니다 .\"\n",
      "src: \"I will craft my own drum .\"\n"
     ]
    },
    {
     "data": {
      "text/markdown": [
       "<span style='background-color:rgba(250, 133, 205,0.002'>\"</span> <span style='background-color:rgba(135,206,250,1.250'>나는</span>   <span style='background-color:rgba(250, 133, 205,0.066'>나</span> <span style='background-color:rgba(135,206,250,0.032'>만의</span>   <span style='background-color:rgba(135,206,250,0.076'>북</span> <span style='background-color:rgba(250, 133, 205,0.008'>을</span>   <span style='background-color:rgba(135,206,250,0.014'>만들</span> <span style='background-color:rgba(250, 133, 205,0.167'>겠습니다</span>   <span style='background-color:rgba(135,206,250,0.053'>.\"</span>"
      ],
      "text/plain": [
       "<IPython.core.display.Markdown object>"
      ]
     },
     "metadata": {},
     "output_type": "display_data"
    },
    {
     "name": "stdout",
     "output_type": "stream",
     "text": [
      "25\n",
      "src_context: \"( Video ) Boy : How about this ?\"\n",
      "tgt_context: \"( 비디오 ) 소년 : 이건 어때 ?\"\n",
      "src: \"Same as the other side .\"\n"
     ]
    },
    {
     "data": {
      "text/markdown": [
       "<span style='background-color:rgba(250, 133, 205,0.004'>\"</span> <span style='background-color:rgba(135,206,250,0.077'>다른</span>   <span style='background-color:rgba(135,206,250,0.060'>쪽</span> <span style='background-color:rgba(250, 133, 205,0.118'>과</span>   <span style='background-color:rgba(135,206,250,0.060'>똑같</span> <span style='background-color:rgba(135,206,250,0.273'>아</span>   <span style='background-color:rgba(135,206,250,1.250'>.\"</span>"
      ],
      "text/plain": [
       "<IPython.core.display.Markdown object>"
      ]
     },
     "metadata": {},
     "output_type": "display_data"
    },
    {
     "name": "stdout",
     "output_type": "stream",
     "text": [
      "26\n",
      "src_context: \"Our neighborhood was full of large families , where fathers were the heads of households , so I grew up seeing my mother as a divorcee in a patriarchal environment .\"\n",
      "tgt_context: \"이웃집이 죄다 아버지가 가장인 대가족이었으니까요 . 그래서 전 가부장적인 주변환경에서 엄마를 이혼녀라고 생각하며 자랐어요 .\"\n",
      "src: \"In fact , I grew up observing two different kinds of womanhood .\"\n"
     ]
    },
    {
     "data": {
      "text/markdown": [
       "<span style='background-color:rgba(250, 133, 205,0.000'>\"</span> <span style='background-color:rgba(250, 133, 205,0.002'>사실</span>   <span style='background-color:rgba(135,206,250,0.820'>전</span>   <span style='background-color:rgba(135,206,250,0.123'>성</span> <span style='background-color:rgba(135,206,250,0.147'>향이</span>   <span style='background-color:rgba(135,206,250,0.068'>다른</span>   <span style='background-color:rgba(135,206,250,0.051'>모</span> <span style='background-color:rgba(250, 133, 205,0.067'>성을</span>   <span style='background-color:rgba(250, 133, 205,0.045'>관찰</span> <span style='background-color:rgba(250, 133, 205,0.149'>하면서</span>   <span style='background-color:rgba(135,206,250,0.190'>성장</span> <span style='background-color:rgba(135,206,250,1.250'>했어요</span>   <span style='background-color:rgba(135,206,250,0.055'>.\"</span>"
      ],
      "text/plain": [
       "<IPython.core.display.Markdown object>"
      ]
     },
     "metadata": {},
     "output_type": "display_data"
    },
    {
     "name": "stdout",
     "output_type": "stream",
     "text": [
      "27\n",
      "src_context: \"In fact , she had aged a lot .\"\n",
      "tgt_context: \"뭐 사실 , 많이 먹었다 .\"\n",
      "src: \"But he felt all his old passion for her return .\"\n"
     ]
    },
    {
     "data": {
      "text/markdown": [
       "<span style='background-color:rgba(250, 133, 205,0.001'>\"</span> <span style='background-color:rgba(135,206,250,0.027'>하지만</span>   <span style='background-color:rgba(250, 133, 205,0.017'>그는</span>   <span style='background-color:rgba(135,206,250,0.033'>그녀</span> <span style='background-color:rgba(135,206,250,0.022'>에</span>   <span style='background-color:rgba(135,206,250,0.002'>대한</span>   <span style='background-color:rgba(135,206,250,0.003'>옛</span>   <span style='background-color:rgba(135,206,250,0.058'>열정</span> <span style='background-color:rgba(135,206,250,0.075'>의</span>   <span style='background-color:rgba(250, 133, 205,0.013'>불</span> <span style='background-color:rgba(250, 133, 205,0.008'>타</span> <span style='background-color:rgba(135,206,250,0.120'>오</span> <span style='background-color:rgba(250, 133, 205,0.055'>름을</span>   <span style='background-color:rgba(135,206,250,0.042'>느꼈</span> <span style='background-color:rgba(135,206,250,1.250'>다</span>   <span style='background-color:rgba(135,206,250,0.028'>.\"</span>"
      ],
      "text/plain": [
       "<IPython.core.display.Markdown object>"
      ]
     },
     "metadata": {},
     "output_type": "display_data"
    },
    {
     "name": "stdout",
     "output_type": "stream",
     "text": [
      "28\n",
      "src_context: \"And my first thought was , &quot; &quot; I &apos;ve lost it .\"\n",
      "tgt_context: \"저의 첫번째 반응은 &quot; &quot; 내가 정신이 나갔구나 ..\"\n",
      "src: \"I &apos;ve become the crazy wrongness lady .\"\n"
     ]
    },
    {
     "data": {
      "text/markdown": [
       "<span style='background-color:rgba(250, 133, 205,0.001'>\"</span> <span style='background-color:rgba(135,206,250,1.250'>나는</span>   <span style='background-color:rgba(135,206,250,0.225'>틀</span> <span style='background-color:rgba(135,206,250,0.013'>리는</span> <span style='background-color:rgba(135,206,250,0.242'>것에</span>   <span style='background-color:rgba(135,206,250,0.127'>미친</span>   <span style='background-color:rgba(135,206,250,0.051'>여</span> <span style='background-color:rgba(135,206,250,0.004'>인이</span>   <span style='background-color:rgba(135,206,250,0.359'>됐</span> <span style='background-color:rgba(135,206,250,0.227'>구나</span>   <span style='background-color:rgba(250, 133, 205,0.024'>.\"</span>"
      ],
      "text/plain": [
       "<IPython.core.display.Markdown object>"
      ]
     },
     "metadata": {},
     "output_type": "display_data"
    },
    {
     "name": "stdout",
     "output_type": "stream",
     "text": [
      "29\n",
      "src_context: \"This wonderful one which I don &apos;t have time to show you is taking hyper-local blogs in real time and mapping those stories , those entries to the places that are referred to on the blogs .\"\n",
      "tgt_context: \"시간이 없어서 여러분께 보여드리지는 못하지만 이 멋진 애플리케이션은 실시간으로 초지역 블로그 정보를 가져와서 해당 블로그 글을 그 글에서 언급하고 있는 장소와 연결시켜줍니다 .\"\n",
      "src: \"It &apos;s wonderful .\"\n"
     ]
    },
    {
     "data": {
      "text/markdown": [
       "<span style='background-color:rgba(135,206,250,0.003'>\"</span> <span style='background-color:rgba(250, 133, 205,0.060'>정말</span>   <span style='background-color:rgba(135,206,250,0.204'>멋진</span>   <span style='background-color:rgba(135,206,250,1.250'>애플</span> <span style='background-color:rgba(135,206,250,0.475'>리케이션</span> <span style='background-color:rgba(135,206,250,0.078'>입니다</span>   <span style='background-color:rgba(135,206,250,0.025'>.\"</span>"
      ],
      "text/plain": [
       "<IPython.core.display.Markdown object>"
      ]
     },
     "metadata": {},
     "output_type": "display_data"
    },
    {
     "name": "stdout",
     "output_type": "stream",
     "text": [
      "30\n",
      "src_context: \"Now , true science education I think should be about giving people a voice and enabling to express that voice , so I &apos;ve asked Amy to be the last voice in this short story .\"\n",
      "tgt_context: \"진정한 과학 교육은 , 제 생각에 , 그런 목소리를 내고 또 사람들에게 그런 목소리를 낼 수 있게 해주는 것입니다 . 그래서 제가 에이미에게 이 짧은 이야기의 마지막을 부탁했습니다 .\"\n",
      "src: \"So , Amy ?\"\n"
     ]
    },
    {
     "data": {
      "text/markdown": [
       "<span style='background-color:rgba(135,206,250,0.007'>\"</span> <span style='background-color:rgba(135,206,250,0.151'>에</span> <span style='background-color:rgba(135,206,250,0.749'>이미</span>   <span style='background-color:rgba(135,206,250,1.250'>?\"</span>"
      ],
      "text/plain": [
       "<IPython.core.display.Markdown object>"
      ]
     },
     "metadata": {},
     "output_type": "display_data"
    },
    {
     "name": "stdout",
     "output_type": "stream",
     "text": [
      "31\n",
      "src_context: \"( Laughter ) But then what Betty did was to take a little taste of food from each bowl .\"\n",
      "tgt_context: \"( 웃음 ) Betty가 다음으로 한 일은 각 그릇의 음식을 조금씩 맛본 것이었습니다 .\"\n",
      "src: \"And she would act as if she liked it or she didn &apos;t .\"\n"
     ]
    },
    {
     "data": {
      "text/markdown": [
       "<span style='background-color:rgba(250, 133, 205,0.002'>\"</span> <span style='background-color:rgba(135,206,250,0.052'>그리곤</span>   <span style='background-color:rgba(135,206,250,1.250'>음식을</span>   <span style='background-color:rgba(135,206,250,0.036'>좋아</span> <span style='background-color:rgba(135,206,250,0.066'>하거나</span>   <span style='background-color:rgba(135,206,250,0.212'>싫어하는</span>   <span style='background-color:rgba(250, 133, 205,0.047'>것처럼</span>   <span style='background-color:rgba(250, 133, 205,0.004'>행동</span> <span style='background-color:rgba(135,206,250,0.304'>했습니다</span>   <span style='background-color:rgba(135,206,250,0.031'>.\"</span>"
      ],
      "text/plain": [
       "<IPython.core.display.Markdown object>"
      ]
     },
     "metadata": {},
     "output_type": "display_data"
    },
    {
     "name": "stdout",
     "output_type": "stream",
     "text": [
      "32\n",
      "src_context: \"This operation , believed to be originally from Estonia , moves around from one country to another as soon as the website is tried to shut down .\"\n",
      "tgt_context: \"Estonia에서 만들어진 것으로 알려진 이 프로그램은 웹사이트가 닫히려고 하는 그 순간 다른 나라로 옮겨다닙니다 .\"\n",
      "src: \"So you just can &apos;t shut these guys down .\"\n"
     ]
    },
    {
     "data": {
      "text/markdown": [
       "<span style='background-color:rgba(250, 133, 205,0.002'>\"</span> <span style='background-color:rgba(135,206,250,0.127'>그래서</span>   <span style='background-color:rgba(135,206,250,0.131'>이</span>   <span style='background-color:rgba(135,206,250,1.250'>프로그램을</span>   <span style='background-color:rgba(250, 133, 205,0.093'>절대</span>   <span style='background-color:rgba(135,206,250,0.025'>종</span> <span style='background-color:rgba(135,206,250,0.006'>료</span> <span style='background-color:rgba(135,206,250,0.206'>시킬</span>   <span style='background-color:rgba(135,206,250,0.001'>수</span>   <span style='background-color:rgba(135,206,250,0.049'>없죠</span>   <span style='background-color:rgba(135,206,250,0.008'>.\"</span>"
      ],
      "text/plain": [
       "<IPython.core.display.Markdown object>"
      ]
     },
     "metadata": {},
     "output_type": "display_data"
    },
    {
     "name": "stdout",
     "output_type": "stream",
     "text": [
      "33\n",
      "src_context: \"So how do you actually go around finding online criminals ?\"\n",
      "tgt_context: \"그렇다면 도대체 어떻게 이 온라인 범죄자들을 잡을 수 있을까요 ?\"\n",
      "src: \"How do you actually track them down ?\"\n"
     ]
    },
    {
     "data": {
      "text/markdown": [
       "<span style='background-color:rgba(135,206,250,0.001'>\"</span> <span style='background-color:rgba(135,206,250,1.168'>아니면</span>   <span style='background-color:rgba(135,206,250,1.250'>그들을</span>   <span style='background-color:rgba(135,206,250,0.735'>추적할</span>   <span style='background-color:rgba(135,206,250,0.316'>수</span>   <span style='background-color:rgba(135,206,250,0.055'>있을까요</span>   <span style='background-color:rgba(250, 133, 205,0.007'>?\"</span>"
      ],
      "text/plain": [
       "<IPython.core.display.Markdown object>"
      ]
     },
     "metadata": {},
     "output_type": "display_data"
    },
    {
     "name": "stdout",
     "output_type": "stream",
     "text": [
      "34\n",
      "src_context: \"I &apos;ve tried to work out which is bigger , and it &apos;s almost impossible .\"\n",
      "tgt_context: \"저는 두 개 중 무엇이 더 큰지 알아보려고 했습니다만 , 그 것은 불가능한 일이더군요 .\"\n",
      "src: \"And that &apos;s because they &apos;re both designed to fit the human hand .\"\n"
     ]
    },
    {
     "data": {
      "text/markdown": [
       "<span style='background-color:rgba(250, 133, 205,0.001'>\"</span> <span style='background-color:rgba(250, 133, 205,0.048'>그것은</span>   <span style='background-color:rgba(250, 133, 205,0.080'>두</span>   <span style='background-color:rgba(135,206,250,1.250'>개</span>   <span style='background-color:rgba(135,206,250,0.038'>모두</span>   <span style='background-color:rgba(250, 133, 205,0.023'>인간의</span>   <span style='background-color:rgba(135,206,250,0.003'>손에</span>   <span style='background-color:rgba(250, 133, 205,0.033'>잘</span>   <span style='background-color:rgba(250, 133, 205,0.047'>맞</span> <span style='background-color:rgba(135,206,250,0.017'>도록</span>   <span style='background-color:rgba(250, 133, 205,0.014'>디자인</span> <span style='background-color:rgba(250, 133, 205,0.053'>되었기</span>   <span style='background-color:rgba(250, 133, 205,0.044'>때문입니다</span>   <span style='background-color:rgba(135,206,250,0.003'>.\"</span>"
      ],
      "text/plain": [
       "<IPython.core.display.Markdown object>"
      ]
     },
     "metadata": {},
     "output_type": "display_data"
    },
    {
     "name": "stdout",
     "output_type": "stream",
     "text": [
      "35\n",
      "src_context: \"Now , the viruses that we used to see in the 1980s and 1990s obviously are not a problem any more .\"\n",
      "tgt_context: \"이제 우리가 1980년 대 , 90년 대에 보던 바이러스들은 더이상 문제가 아닙니다 .\"\n",
      "src: \"So let me just show you a couple of examples of what they used to look like .\"\n"
     ]
    },
    {
     "data": {
      "text/markdown": [
       "<span style='background-color:rgba(250, 133, 205,0.000'>\"</span> <span style='background-color:rgba(250, 133, 205,0.032'>그</span>   <span style='background-color:rgba(135,206,250,1.250'>바이러스</span> <span style='background-color:rgba(250, 133, 205,0.009'>들이</span>   <span style='background-color:rgba(250, 133, 205,0.071'>어떤</span>   <span style='background-color:rgba(250, 133, 205,0.024'>것들이</span> <span style='background-color:rgba(135,206,250,0.112'>었는지</span>   <span style='background-color:rgba(135,206,250,0.116'>몇</span>   <span style='background-color:rgba(250, 133, 205,0.041'>개를</span>   <span style='background-color:rgba(135,206,250,0.121'>보여드리죠</span>   <span style='background-color:rgba(135,206,250,0.002'>.\"</span>"
      ],
      "text/plain": [
       "<IPython.core.display.Markdown object>"
      ]
     },
     "metadata": {},
     "output_type": "display_data"
    },
    {
     "name": "stdout",
     "output_type": "stream",
     "text": [
      "36\n",
      "src_context: \"Here &apos;s what he wrote in starting that out .\"\n",
      "tgt_context: \"이 글이 그 글입니다 .\"\n",
      "src: \"He said , &quot; &quot; Here it is . I &apos;m dead , and this is my last post to my blog .\"\n"
     ]
    },
    {
     "data": {
      "text/markdown": [
       "<span style='background-color:rgba(250, 133, 205,0.034'>\"&</span> <span style='background-color:rgba(250, 133, 205,0.003'>quot</span> <span style='background-color:rgba(250, 133, 205,0.001'>;</span>   <span style='background-color:rgba(135,206,250,0.001'>&</span> <span style='background-color:rgba(250, 133, 205,0.000'>quot</span> <span style='background-color:rgba(250, 133, 205,0.001'>;</span>   <span style='background-color:rgba(135,206,250,0.167'>네</span>   <span style='background-color:rgba(135,206,250,0.012'>.</span>   <span style='background-color:rgba(250, 133, 205,0.035'>전</span>   <span style='background-color:rgba(135,206,250,0.020'>죽었습니다</span>   <span style='background-color:rgba(250, 133, 205,0.002'>.</span>   <span style='background-color:rgba(135,206,250,0.110'>그리고</span>   <span style='background-color:rgba(135,206,250,0.051'>이</span>   <span style='background-color:rgba(135,206,250,1.250'>글</span> <span style='background-color:rgba(135,206,250,0.103'>이</span>   <span style='background-color:rgba(135,206,250,0.485'>제</span>   <span style='background-color:rgba(135,206,250,0.026'>블로그에</span>   <span style='background-color:rgba(135,206,250,0.057'>올라</span>   <span style='background-color:rgba(135,206,250,0.084'>올</span>   <span style='background-color:rgba(135,206,250,0.031'>마지막</span>   <span style='background-color:rgba(135,206,250,0.365'>글</span> <span style='background-color:rgba(135,206,250,0.037'>입니다</span>   <span style='background-color:rgba(135,206,250,0.001'>.\"</span>"
      ],
      "text/plain": [
       "<IPython.core.display.Markdown object>"
      ]
     },
     "metadata": {},
     "output_type": "display_data"
    },
    {
     "name": "stdout",
     "output_type": "stream",
     "text": [
      "37\n",
      "src_context: \"We &apos;re just the nodes in the network .\"\n",
      "tgt_context: \"우리는 네트워크의 매듭점일 뿐이죠\"\n",
      "src: \"We &apos;re the neurons in this brain .\"\n"
     ]
    },
    {
     "data": {
      "text/markdown": [
       "<span style='background-color:rgba(250, 133, 205,0.001'>\"</span> <span style='background-color:rgba(135,206,250,0.029'>우리는</span>   <span style='background-color:rgba(250, 133, 205,0.010'>집단</span> <span style='background-color:rgba(135,206,250,0.064'>지</span> <span style='background-color:rgba(135,206,250,0.140'>성의</span>   <span style='background-color:rgba(135,206,250,0.043'>뉴</span> <span style='background-color:rgba(250, 133, 205,0.194'>론</span> <span style='background-color:rgba(250, 133, 205,0.064'>들입니다</span> <span style='background-color:rgba(135,206,250,1.250'>\"</span>"
      ],
      "text/plain": [
       "<IPython.core.display.Markdown object>"
      ]
     },
     "metadata": {},
     "output_type": "display_data"
    },
    {
     "name": "stdout",
     "output_type": "stream",
     "text": [
      "38\n",
      "src_context: \"( Laughter ) I skipped school often and dreamed of becoming a sailor during those days .\"\n",
      "tgt_context: \"( 웃음 ) 당시에 전 학교를 가지 않고 선원이 되는 꿈을 꿨어요 .\"\n",
      "src: \"I also had my first taste of cultural stereotypes there .\"\n"
     ]
    },
    {
     "data": {
      "text/markdown": [
       "<span style='background-color:rgba(250, 133, 205,0.005'>\"</span> <span style='background-color:rgba(135,206,250,0.026'>그곳에서</span>   <span style='background-color:rgba(135,206,250,0.124'>처음으로</span>   <span style='background-color:rgba(135,206,250,0.068'>문화적인</span>   <span style='background-color:rgba(250, 133, 205,0.029'>고정관념</span> <span style='background-color:rgba(135,206,250,0.441'>도</span>   <span style='background-color:rgba(135,206,250,0.616'>배웠</span> <span style='background-color:rgba(135,206,250,1.250'>어요</span>   <span style='background-color:rgba(135,206,250,0.058'>.\"</span>"
      ],
      "text/plain": [
       "<IPython.core.display.Markdown object>"
      ]
     },
     "metadata": {},
     "output_type": "display_data"
    },
    {
     "name": "stdout",
     "output_type": "stream",
     "text": [
      "39\n",
      "src_context: \"The problem with this proposition is that the Chinese state enjoys more legitimacy and more authority amongst the Chinese than is true with any Western state .\"\n",
      "tgt_context: \"이러한 명제의 문제는 중국이라는 국가는 서양의 국가들보다 많은 적법성과 권위를 중국인들로보터 인정받고 있는 국가라는 것입니다 .\"\n",
      "src: \"And the reason for this is because — well , there are two reasons , I think .\"\n"
     ]
    },
    {
     "data": {
      "text/markdown": [
       "<span style='background-color:rgba(250, 133, 205,0.002'>\"</span> <span style='background-color:rgba(135,206,250,0.399'>이러한</span>   <span style='background-color:rgba(135,206,250,1.250'>현</span> <span style='background-color:rgba(135,206,250,0.135'>상의</span>   <span style='background-color:rgba(135,206,250,0.013'>이유는</span>   <span style='background-color:rgba(135,206,250,0.004'>두가지가</span>   <span style='background-color:rgba(135,206,250,0.229'>있다고</span>   <span style='background-color:rgba(135,206,250,0.138'>생각합니다</span>   <span style='background-color:rgba(135,206,250,0.137'>.\"</span>"
      ],
      "text/plain": [
       "<IPython.core.display.Markdown object>"
      ]
     },
     "metadata": {},
     "output_type": "display_data"
    },
    {
     "name": "stdout",
     "output_type": "stream",
     "text": [
      "40\n",
      "src_context: \"Mound up those four plates with vegetables and then open up the very best bottle of Burgundy you have , light the candles and celebrate it .\"\n",
      "tgt_context: \"채소를 접시 네 개에 쌓고 , 그리고 여러분이 가진 가장 좋은 부르고뉴 포도주를 따세요 . 촛불을 밝히고 축하하세요 .\"\n",
      "src: \"Celebrate the opportunity you have to eat this .\"\n"
     ]
    },
    {
     "data": {
      "text/markdown": [
       "<span style='background-color:rgba(250, 133, 205,0.005'>\"</span> <span style='background-color:rgba(135,206,250,0.246'>이것을</span>   <span style='background-color:rgba(135,206,250,0.002'>먹을</span>   <span style='background-color:rgba(135,206,250,0.115'>수</span>   <span style='background-color:rgba(135,206,250,0.027'>있는</span>   <span style='background-color:rgba(135,206,250,0.004'>기회를</span>   <span style='background-color:rgba(135,206,250,0.289'>축하</span> <span style='background-color:rgba(135,206,250,1.250'>하세요</span>   <span style='background-color:rgba(135,206,250,0.124'>.\"</span>"
      ],
      "text/plain": [
       "<IPython.core.display.Markdown object>"
      ]
     },
     "metadata": {},
     "output_type": "display_data"
    },
    {
     "name": "stdout",
     "output_type": "stream",
     "text": [
      "41\n",
      "src_context: \"( Laughter ) Controlling — you &apos;re obviously an idiot , so I &apos;m going to make a zillion little processes for you to follow so you don &apos;t step out of the box .\"\n",
      "tgt_context: \"( 웃음 ) 또한 통제입니다 - 당신은 분명히 바보로구먼 , 당신이 따라야 할 과정을 무수히 세분화 해서 만들어 주지 , 그러면 당신은 그 틀에서 벗어날 필요가 없을꺼야 .\"\n",
      "src: \"So they &apos;re restrictive — don &apos;t use your mobile phone , don &apos;t use your laptop , don &apos;t search the Internet , don &apos;t be on I.M.\"\n"
     ]
    },
    {
     "data": {
      "text/markdown": [
       "<span style='background-color:rgba(250, 133, 205,0.012'>\"</span> <span style='background-color:rgba(135,206,250,0.260'>그래서</span>   <span style='background-color:rgba(135,206,250,0.316'>그들은</span>   <span style='background-color:rgba(135,206,250,0.112'>구속</span> <span style='background-color:rgba(250, 133, 205,0.150'>적입니다</span> <span style='background-color:rgba(135,206,250,1.250'>.-</span>   <span style='background-color:rgba(250, 133, 205,0.164'>휴대</span>   <span style='background-color:rgba(250, 133, 205,0.193'>전화</span>   <span style='background-color:rgba(250, 133, 205,0.084'>사용하지</span>   <span style='background-color:rgba(135,206,250,0.530'>마</span>   <span style='background-color:rgba(135,206,250,0.064'>노트북</span> <span style='background-color:rgba(135,206,250,0.069'>도</span>   <span style='background-color:rgba(250, 133, 205,0.032'>사용하지</span>   <span style='background-color:rgba(135,206,250,0.182'>말고</span>   <span style='background-color:rgba(135,206,250,0.075'>,</span>   <span style='background-color:rgba(135,206,250,0.372'>인터넷</span> <span style='background-color:rgba(135,206,250,0.095'>도</span>   <span style='background-color:rgba(135,206,250,0.346'>검색</span> <span style='background-color:rgba(135,206,250,0.105'>하지</span>   <span style='background-color:rgba(135,206,250,0.181'>말고</span>   <span style='background-color:rgba(250, 133, 205,0.042'>,</span>   <span style='background-color:rgba(135,206,250,0.033'>인터넷</span>   <span style='background-color:rgba(135,206,250,0.096'>메</span> <span style='background-color:rgba(250, 133, 205,0.071'>신</span> <span style='background-color:rgba(135,206,250,0.131'>저도</span>   <span style='background-color:rgba(250, 133, 205,0.206'>사용하지</span>   <span style='background-color:rgba(135,206,250,0.568'>마</span>   <span style='background-color:rgba(135,206,250,0.364'>.\"</span>"
      ],
      "text/plain": [
       "<IPython.core.display.Markdown object>"
      ]
     },
     "metadata": {},
     "output_type": "display_data"
    },
    {
     "name": "stdout",
     "output_type": "stream",
     "text": [
      "42\n",
      "src_context: \"What &apos;s relevant to a society is how well people are communicating their ideas , and how well they &apos;re cooperating , not how clever the individuals are .\"\n",
      "tgt_context: \"사회에서 중요한 것은 얼마나 사람들이 서로의 생각을 잘 소통하느냐이고 얼마나 잘 협력하는 가입니다 개개인이 얼마나 똑똑한가가 중요한게 아니죠\"\n",
      "src: \"So we &apos;ve created something called the collective brain .\"\n"
     ]
    },
    {
     "data": {
      "text/markdown": [
       "<span style='background-color:rgba(135,206,250,0.010'>\"</span> <span style='background-color:rgba(250, 133, 205,0.019'>우리는</span>   <span style='background-color:rgba(135,206,250,0.010'>그래서</span>   <span style='background-color:rgba(135,206,250,0.011'>집단</span>   <span style='background-color:rgba(135,206,250,0.032'>지</span> <span style='background-color:rgba(135,206,250,0.106'>성이라는</span>   <span style='background-color:rgba(135,206,250,0.035'>개념을</span>   <span style='background-color:rgba(135,206,250,0.125'>만들어</span>   <span style='background-color:rgba(250, 133, 205,0.021'>냈습니다</span> <span style='background-color:rgba(135,206,250,1.250'>\"</span>"
      ],
      "text/plain": [
       "<IPython.core.display.Markdown object>"
      ]
     },
     "metadata": {},
     "output_type": "display_data"
    },
    {
     "name": "stdout",
     "output_type": "stream",
     "text": [
      "43\n",
      "src_context: \"It &apos;s not the bears that learn how to fish better .\"\n",
      "tgt_context: \"그냥 곰이라서 물고기를 더 잘 잡는 방법을 배우는 것이 아닙니다 .\"\n",
      "src: \"It &apos;s the ones that play more .\"\n"
     ]
    },
    {
     "data": {
      "text/markdown": [
       "<span style='background-color:rgba(250, 133, 205,0.002'>\"</span> <span style='background-color:rgba(135,206,250,0.417'>더</span>   <span style='background-color:rgba(250, 133, 205,0.024'>많은</span>   <span style='background-color:rgba(135,206,250,0.164'>놀이를</span>   <span style='background-color:rgba(135,206,250,0.071'>하는</span>   <span style='background-color:rgba(135,206,250,1.250'>곰</span> <span style='background-color:rgba(250, 133, 205,0.020'>이</span>   <span style='background-color:rgba(250, 133, 205,0.024'>그런</span>   <span style='background-color:rgba(135,206,250,0.265'>방법을</span>   <span style='background-color:rgba(135,206,250,0.190'>배웁니다</span>   <span style='background-color:rgba(135,206,250,0.008'>.\"</span>"
      ],
      "text/plain": [
       "<IPython.core.display.Markdown object>"
      ]
     },
     "metadata": {},
     "output_type": "display_data"
    },
    {
     "name": "stdout",
     "output_type": "stream",
     "text": [
      "44\n",
      "src_context: \"Strange and wonderful things he would not otherwise have seen .\"\n",
      "tgt_context: \"전에 같았으면 눈치채지 못했을 묘하지만 재미있는 것들을 말이다 .\"\n",
      "src: \"A deer with an itchy leg . A flying motorcycle .\"\n"
     ]
    },
    {
     "data": {
      "text/markdown": [
       "<span style='background-color:rgba(135,206,250,0.002'>\"</span> <span style='background-color:rgba(135,206,250,0.687'>다</span> <span style='background-color:rgba(250, 133, 205,0.116'>리가</span>   <span style='background-color:rgba(135,206,250,0.166'>가려</span> <span style='background-color:rgba(135,206,250,1.250'>운</span>   <span style='background-color:rgba(135,206,250,0.237'>사슴</span>   <span style='background-color:rgba(135,206,250,0.153'>한</span>   <span style='background-color:rgba(135,206,250,0.275'>마리</span>   <span style='background-color:rgba(135,206,250,0.255'>.</span>   <span style='background-color:rgba(135,206,250,0.263'>하늘을</span>   <span style='background-color:rgba(135,206,250,0.082'>나는</span>   <span style='background-color:rgba(250, 133, 205,1.072'>오토바이</span>   <span style='background-color:rgba(135,206,250,0.128'>.\"</span>"
      ],
      "text/plain": [
       "<IPython.core.display.Markdown object>"
      ]
     },
     "metadata": {},
     "output_type": "display_data"
    },
    {
     "name": "stdout",
     "output_type": "stream",
     "text": [
      "45\n",
      "src_context: \"Boy : What &apos;s making this light up .\"\n",
      "tgt_context: \"소년 : 이걸 뭘로 켜는 거지 ?\"\n",
      "src: \"( Laughter ) I don &apos;t know .\"\n"
     ]
    },
    {
     "data": {
      "text/markdown": [
       "<span style='background-color:rgba(250, 133, 205,0.000'>\"(</span>   <span style='background-color:rgba(250, 133, 205,0.008'>웃음</span>   <span style='background-color:rgba(250, 133, 205,0.009'>)</span>   <span style='background-color:rgba(135,206,250,0.637'>모르</span> <span style='background-color:rgba(135,206,250,1.250'>겠어</span>   <span style='background-color:rgba(250, 133, 205,0.001'>.\"</span>"
      ],
      "text/plain": [
       "<IPython.core.display.Markdown object>"
      ]
     },
     "metadata": {},
     "output_type": "display_data"
    },
    {
     "name": "stdout",
     "output_type": "stream",
     "text": [
      "46\n",
      "src_context: \"And maybe you thought you were going to grow up and marry your high school sweetheart and move back to your hometown and raise a bunch of kids together .\"\n",
      "tgt_context: \"아마 여러분들도 성인이 되어 고등학교때의 첫 사랑과 결혼해서 고향으로 돌아가 아이들을 많이 낳아 키울 것이라고 생각하신 분이 계시지요 .\"\n",
      "src: \"And something else happened instead .\"\n"
     ]
    },
    {
     "data": {
      "text/markdown": [
       "<span style='background-color:rgba(250, 133, 205,0.003'>\"</span> <span style='background-color:rgba(135,206,250,1.250'>그런데</span>   <span style='background-color:rgba(250, 133, 205,0.286'>다른</span>   <span style='background-color:rgba(135,206,250,0.003'>일이</span>   <span style='background-color:rgba(135,206,250,0.536'>생겼</span> <span style='background-color:rgba(135,206,250,0.466'>지요</span>   <span style='background-color:rgba(135,206,250,0.005'>.\"</span>"
      ],
      "text/plain": [
       "<IPython.core.display.Markdown object>"
      ]
     },
     "metadata": {},
     "output_type": "display_data"
    },
    {
     "name": "stdout",
     "output_type": "stream",
     "text": [
      "47\n",
      "src_context: \"Resolutions , smoke .\"\n",
      "tgt_context: \"결의들 . 연기 .\"\n",
      "src: \"Salvation , smoke .\"\n"
     ]
    },
    {
     "data": {
      "text/markdown": [
       "<span style='background-color:rgba(135,206,250,0.005'>\"</span> <span style='background-color:rgba(135,206,250,0.367'>구</span> <span style='background-color:rgba(135,206,250,0.394'>제</span>   <span style='background-color:rgba(135,206,250,0.332'>.</span>   <span style='background-color:rgba(135,206,250,1.250'>연기</span>   <span style='background-color:rgba(135,206,250,0.288'>.\"</span>"
      ],
      "text/plain": [
       "<IPython.core.display.Markdown object>"
      ]
     },
     "metadata": {},
     "output_type": "display_data"
    },
    {
     "name": "stdout",
     "output_type": "stream",
     "text": [
      "48\n",
      "src_context: \"( Laughter ) And I &apos;m like , &quot; &quot; You know , all the signs we keep seeing with the Chinese character on them . &quot; &quot; She just stares at me for a few moments , and then she cracks up , because she figures out what I &apos;m talking about .\"\n",
      "tgt_context: \"( 웃음 ) 저는 , &quot; &quot; 왜 알잖아 , 우리가 계속 보아온 한자로 적힌 안내판들 말이야 . &quot; &quot; 제 친구는 계속 저를 멍하니 보다가 제가 무엇을 말하는지 알고나서는 배를 잡고 웃었습니다 .\"\n",
      "src: \"And what I &apos;m talking about is this .\"\n"
     ]
    },
    {
     "data": {
      "text/markdown": [
       "<span style='background-color:rgba(250, 133, 205,0.006'>\"</span> <span style='background-color:rgba(250, 133, 205,0.179'>이게</span>   <span style='background-color:rgba(135,206,250,0.169'>제가</span>   <span style='background-color:rgba(135,206,250,0.057'>말하</span> <span style='background-color:rgba(135,206,250,0.374'>던</span>   <span style='background-color:rgba(250, 133, 205,0.004'>안내</span> <span style='background-color:rgba(135,206,250,0.374'>판</span> <span style='background-color:rgba(135,206,250,1.250'>이었습니다</span>   <span style='background-color:rgba(135,206,250,0.017'>.\"</span>"
      ],
      "text/plain": [
       "<IPython.core.display.Markdown object>"
      ]
     },
     "metadata": {},
     "output_type": "display_data"
    },
    {
     "name": "stdout",
     "output_type": "stream",
     "text": [
      "49\n",
      "src_context: \"( Applause ) .\"\n",
      "tgt_context: \"( 박수 )\"\n",
      "src: \"Thank you , Chris .\"\n"
     ]
    },
    {
     "data": {
      "text/markdown": [
       "<span style='background-color:rgba(135,206,250,0.000'>\"</span> <span style='background-color:rgba(135,206,250,1.054'>Ch</span> <span style='background-color:rgba(135,206,250,0.286'>ris</span>   <span style='background-color:rgba(135,206,250,0.573'>고마워요</span> <span style='background-color:rgba(135,206,250,1.250'>\"</span>"
      ],
      "text/plain": [
       "<IPython.core.display.Markdown object>"
      ]
     },
     "metadata": {},
     "output_type": "display_data"
    },
    {
     "name": "stdout",
     "output_type": "stream",
     "text": [
      "50\n",
      "src_context: \"My body &apos;s an accumulation of ideas too : the idea of skin cells , the idea of brain cells , the idea of liver cells .\"\n",
      "tgt_context: \"제 신체도 마찬가지로 아이디어들의 조합입니다 . 피부세포 아이디어 , 두뇌세포 아이디어 , 간 세포 아이디어들이\"\n",
      "src: \"They &apos;ve come together .\"\n"
     ]
    },
    {
     "data": {
      "text/markdown": [
       "<span style='background-color:rgba(135,206,250,0.012'>\"</span> <span style='background-color:rgba(135,206,250,0.833'>하나</span> <span style='background-color:rgba(135,206,250,1.250'>로</span>   <span style='background-color:rgba(135,206,250,0.817'>모인</span>   <span style='background-color:rgba(250, 133, 205,0.043'>것이죠</span>   <span style='background-color:rgba(250, 133, 205,0.077'>.\"</span>"
      ],
      "text/plain": [
       "<IPython.core.display.Markdown object>"
      ]
     },
     "metadata": {},
     "output_type": "display_data"
    },
    {
     "name": "stdout",
     "output_type": "stream",
     "text": [
      "51\n",
      "src_context: \"Stories cut across all boundaries , like &quot; &quot; The Tales of Nasreddin Hodja , &quot; &quot; which were very popular throughout the Middle East , North Africa , the Balkans and Asia .\"\n",
      "tgt_context: \"이야기는 모든 경계를 넘나들어요 . 중동 전지역과 북미 , 발칸제국과 아시아에서 매우 유명했던 &quot; &quot; 나스레딘 호드자의 이야기 &quot; &quot; 처럼요 .\"\n",
      "src: \"Today , stories continue to transcend borders .\"\n"
     ]
    },
    {
     "data": {
      "text/markdown": [
       "<span style='background-color:rgba(250, 133, 205,0.006'>\"</span> <span style='background-color:rgba(250, 133, 205,0.010'>오늘날</span> <span style='background-color:rgba(135,206,250,0.463'>에도</span>   <span style='background-color:rgba(250, 133, 205,0.047'>,</span>   <span style='background-color:rgba(250, 133, 205,0.122'>이야기는</span>   <span style='background-color:rgba(135,206,250,0.169'>계속해서</span>   <span style='background-color:rgba(135,206,250,0.032'>국경을</span>   <span style='background-color:rgba(250, 133, 205,0.000'>초월</span> <span style='background-color:rgba(135,206,250,1.250'>해요</span>   <span style='background-color:rgba(135,206,250,0.045'>.\"</span>"
      ],
      "text/plain": [
       "<IPython.core.display.Markdown object>"
      ]
     },
     "metadata": {},
     "output_type": "display_data"
    }
   ],
   "source": [
    "from contextual_mt.utils import encode\n",
    "\n",
    "for i, (_, w_cxmis, idx) in enumerate(sorted(zip(sample_cxmis, ko_word_cxmis, ids), key=lambda p: p[0], reverse=False)):\n",
    "    subwords = tgt_spm.encode(documents[idx[0]][idx[1]][1], out_type='str')\n",
    "    print(i)\n",
    "    print(f\"src_context: {documents[idx[0]][idx[1]-1][0]}\")\n",
    "    print(f\"tgt_context: {documents[idx[0]][idx[1]-1][1]}\")\n",
    "    print(f\"src: {documents[idx[0]][idx[1]][0]}\")\n",
    "    print_coloured(subwords, w_cxmis)\n",
    "    if i > 50:\n",
    "        break"
   ]
  },
  {
   "cell_type": "code",
   "execution_count": 53,
   "metadata": {},
   "outputs": [
    {
     "name": "stdout",
     "output_type": "stream",
     "text": [
      "0\n",
      "src_context: \"JA : Yeah . So this became front page of the Guardian and was then printed in all the surrounding countries of Kenya , in Tanzanian and South African press .\"\n",
      "tgt_context: \"沒錯 ， 還登上衛報頭條 後來肯亞附近的國家 坦桑尼亞 、 南非也有報導\"\n",
      "src: \"And so it came in from the outside .\"\n"
     ]
    },
    {
     "data": {
      "text/markdown": [
       "<span style='background-color:rgba(135,206,250,1.250'>之後</span> <span style='background-color:rgba(135,206,250,0.428'>傳到</span> <span style='background-color:rgba(135,206,250,0.947'>肯亞</span>"
      ],
      "text/plain": [
       "<IPython.core.display.Markdown object>"
      ]
     },
     "metadata": {},
     "output_type": "display_data"
    },
    {
     "name": "stdout",
     "output_type": "stream",
     "text": [
      "1\n",
      "src_context: \"Not one customer would refer us .\"\n",
      "tgt_context: 沒有一位顧客會推薦我們\n",
      "src: \"I asked them all .\"\n"
     ]
    },
    {
     "data": {
      "text/markdown": [
       "<span style='background-color:rgba(250, 133, 205,1.250'>我</span> <span style='background-color:rgba(250, 133, 205,0.358'>每個</span> <span style='background-color:rgba(250, 133, 205,0.026'>顧客</span> <span style='background-color:rgba(250, 133, 205,0.611'>都</span> <span style='background-color:rgba(250, 133, 205,0.286'>問了</span> <span style='background-color:rgba(250, 133, 205,0.004'>喔</span>"
      ],
      "text/plain": [
       "<IPython.core.display.Markdown object>"
      ]
     },
     "metadata": {},
     "output_type": "display_data"
    },
    {
     "name": "stdout",
     "output_type": "stream",
     "text": [
      "2\n",
      "src_context: \"Student : There &apos;s two up there .\"\n",
      "tgt_context: \"學生 : 這裡有兩隻蜜蜂\"\n",
      "src: \"And three in here .\"\n"
     ]
    },
    {
     "data": {
      "text/markdown": [
       "<span style='background-color:rgba(135,206,250,0.081'>那裏</span> <span style='background-color:rgba(135,206,250,0.868'>有三</span> <span style='background-color:rgba(135,206,250,0.097'>隻</span>"
      ],
      "text/plain": [
       "<IPython.core.display.Markdown object>"
      ]
     },
     "metadata": {},
     "output_type": "display_data"
    },
    {
     "name": "stdout",
     "output_type": "stream",
     "text": [
      "3\n",
      "src_context: \"Boy : That &apos;s why .\"\n",
      "tgt_context: \"男孩 ： 「 這就是原因 。\"\n",
      "src: \"Oh .\"\n"
     ]
    },
    {
     "data": {
      "text/markdown": [
       "<span style='background-color:rgba(135,206,250,0.379'>\"</span> <span style='background-color:rgba(135,206,250,1.250'>噢</span>   <span style='background-color:rgba(135,206,250,0.150'>。</span>   <span style='background-color:rgba(135,206,250,0.402'>」\"</span>"
      ],
      "text/plain": [
       "<IPython.core.display.Markdown object>"
      ]
     },
     "metadata": {},
     "output_type": "display_data"
    },
    {
     "name": "stdout",
     "output_type": "stream",
     "text": [
      "4\n",
      "src_context: \"Like this . And let me mark it so we can recognize it when we see it again .\"\n",
      "tgt_context: \"像這樣 我在上面做個記號 這樣待會才認得出來\"\n",
      "src: \"All right . Very significant mark .\"\n"
     ]
    },
    {
     "ename": "IndexError",
     "evalue": "list index out of range",
     "output_type": "error",
     "traceback": [
      "\u001b[0;31m---------------------------------------------------------------------------\u001b[0m",
      "\u001b[0;31mIndexError\u001b[0m                                Traceback (most recent call last)",
      "\u001b[0;32m<ipython-input-53-997252193d00>\u001b[0m in \u001b[0;36m<module>\u001b[0;34m\u001b[0m\n\u001b[1;32m      7\u001b[0m     \u001b[0mprint\u001b[0m\u001b[0;34m(\u001b[0m\u001b[0;34mf\"tgt_context: {documents[idx[0]][idx[1]-1][1]}\"\u001b[0m\u001b[0;34m)\u001b[0m\u001b[0;34m\u001b[0m\u001b[0;34m\u001b[0m\u001b[0m\n\u001b[1;32m      8\u001b[0m     \u001b[0mprint\u001b[0m\u001b[0;34m(\u001b[0m\u001b[0;34mf\"src: {documents[idx[0]][idx[1]][0]}\"\u001b[0m\u001b[0;34m)\u001b[0m\u001b[0;34m\u001b[0m\u001b[0;34m\u001b[0m\u001b[0m\n\u001b[0;32m----> 9\u001b[0;31m     \u001b[0mprint_coloured\u001b[0m\u001b[0;34m(\u001b[0m\u001b[0msubwords\u001b[0m\u001b[0;34m,\u001b[0m \u001b[0mw_cxmis\u001b[0m\u001b[0;34m)\u001b[0m\u001b[0;34m\u001b[0m\u001b[0;34m\u001b[0m\u001b[0m\n\u001b[0m\u001b[1;32m     10\u001b[0m     \u001b[0;32mif\u001b[0m \u001b[0mi\u001b[0m \u001b[0;34m>\u001b[0m \u001b[0;36m50\u001b[0m\u001b[0;34m:\u001b[0m\u001b[0;34m\u001b[0m\u001b[0;34m\u001b[0m\u001b[0m\n\u001b[1;32m     11\u001b[0m         \u001b[0;32mbreak\u001b[0m\u001b[0;34m\u001b[0m\u001b[0;34m\u001b[0m\u001b[0m\n",
      "\u001b[0;32m<ipython-input-49-022e987d7eff>\u001b[0m in \u001b[0;36mprint_coloured\u001b[0;34m(subwords, weights, max_alpha)\u001b[0m\n\u001b[1;32m     11\u001b[0m             \u001b[0;32mif\u001b[0m \u001b[0mi\u001b[0m\u001b[0;34m:\u001b[0m\u001b[0;34m\u001b[0m\u001b[0;34m\u001b[0m\u001b[0m\n\u001b[1;32m     12\u001b[0m                 \u001b[0mtext\u001b[0m\u001b[0;34m.\u001b[0m\u001b[0mappend\u001b[0m\u001b[0;34m(\u001b[0m\u001b[0;34m\" \"\u001b[0m\u001b[0;34m)\u001b[0m\u001b[0;34m\u001b[0m\u001b[0;34m\u001b[0m\u001b[0m\n\u001b[0;32m---> 13\u001b[0;31m         \u001b[0mcolorstr\u001b[0m \u001b[0;34m=\u001b[0m \u001b[0;34mf\"<span style='background-color:rgba({colour[i]},{weights[i] / max_alpha:.03f}'>{subword}</span>\"\u001b[0m\u001b[0;34m\u001b[0m\u001b[0;34m\u001b[0m\u001b[0m\n\u001b[0m\u001b[1;32m     14\u001b[0m         \u001b[0mtext\u001b[0m\u001b[0;34m.\u001b[0m\u001b[0mappend\u001b[0m\u001b[0;34m(\u001b[0m\u001b[0mcolorstr\u001b[0m\u001b[0;34m)\u001b[0m\u001b[0;34m\u001b[0m\u001b[0;34m\u001b[0m\u001b[0m\n\u001b[1;32m     15\u001b[0m     \u001b[0mdisplay\u001b[0m\u001b[0;34m(\u001b[0m\u001b[0mMarkdown\u001b[0m\u001b[0;34m(\u001b[0m\u001b[0;34m\" \"\u001b[0m\u001b[0;34m.\u001b[0m\u001b[0mjoin\u001b[0m\u001b[0;34m(\u001b[0m\u001b[0mtext\u001b[0m\u001b[0;34m)\u001b[0m\u001b[0;34m)\u001b[0m\u001b[0;34m)\u001b[0m\u001b[0;34m\u001b[0m\u001b[0;34m\u001b[0m\u001b[0m\n",
      "\u001b[0;31mIndexError\u001b[0m: list index out of range"
     ]
    }
   ],
   "source": [
    "from contextual_mt.utils import encode\n",
    "\n",
    "for i, (_, w_cxmis, idx) in enumerate(sorted(zip(sample_cxmis, ja_word_cxmis, ids), key=lambda p: p[0], reverse=False)):\n",
    "    subwords = tgt_spm.encode(documents[idx[0]][idx[1]][1], out_type='str')\n",
    "    print(i)\n",
    "    print(f\"src_context: {documents[idx[0]][idx[1]-1][0]}\")\n",
    "    print(f\"tgt_context: {documents[idx[0]][idx[1]-1][1]}\")\n",
    "    print(f\"src: {documents[idx[0]][idx[1]][0]}\")\n",
    "    print_coloured(subwords, w_cxmis)\n",
    "    if i > 50:\n",
    "        break"
   ]
  },
  {
   "cell_type": "code",
   "execution_count": 5,
   "metadata": {},
   "outputs": [],
   "source": [
    "from contextual_mt.docmt_cxmi import compute_cxmi\n",
    "\n",
    "word_cxmis, ids = compute_cxmi(\n",
    "        documents,\n",
    "        models,\n",
    "        src_spm,\n",
    "        src_dict,\n",
    "        tgt_spm,\n",
    "        tgt_dict,\n",
    "        source_context_size,\n",
    "        target_context_size,\n",
    "        batch_size=batch_size,\n",
    "        word_level=True,\n",
    "        norm_words=True,\n",
    "        norm_cxmi=True\n",
    ")\n",
    "context_ll, ids = compute_cxmi(\n",
    "        documents,\n",
    "        models,\n",
    "        src_spm,\n",
    "        src_dict,\n",
    "        tgt_spm,\n",
    "        tgt_dict,\n",
    "        source_context_size,\n",
    "        target_context_size,\n",
    "        batch_size=batch_size,\n",
    "        word_level=True,\n",
    "        context_ll=True\n",
    ")\n",
    "base_ll, ids = compute_cxmi(\n",
    "        documents,\n",
    "        models,\n",
    "        src_spm,\n",
    "        src_dict,\n",
    "        tgt_spm,\n",
    "        tgt_dict,\n",
    "        source_context_size,\n",
    "        target_context_size,\n",
    "        batch_size=batch_size,\n",
    "        word_level=True,\n",
    "        base_ll=True\n",
    ")"
   ]
  },
  {
   "cell_type": "code",
   "execution_count": 6,
   "metadata": {},
   "outputs": [],
   "source": [
    "word_cxmis_mean = [[np.mean(s) for s in score] for score in word_cxmis]\n",
    "context_ll_mean = [[np.mean(s) for s in score] for score in context_ll]\n",
    "base_ll_mean = [[np.mean(s) for s in score] for score in base_ll]"
   ]
  },
  {
   "cell_type": "code",
   "execution_count": 8,
   "metadata": {},
   "outputs": [
    {
     "name": "stdout",
     "output_type": "stream",
     "text": [
      "CXMI: -37.85049\n",
      "CXMI: -37.125233\n",
      "Context NLL: 4.3277416\n",
      "Base NLL 0.113513835\n",
      "\n",
      "CXMI: -138.62975\n",
      "CXMI: -138.62975\n",
      "Context NLL: 3.28787\n",
      "Base NLL 0.023547059\n",
      "\n"
     ]
    }
   ],
   "source": [
    "for i in range(len(word_cxmis_mean)):\n",
    "    for j in range(len(word_cxmis_mean[i])):\n",
    "        if word_cxmis_mean[i][j] < -30:\n",
    "            print(\"CXMI:\", word_cxmis_mean[i][j])\n",
    "            print(\"CXMI:\", (base_ll_mean[i][j] - context_ll_mean[i][j]) / base_ll_mean[i][j])\n",
    "            print(\"Context NLL:\", context_ll_mean[i][j])\n",
    "            print(\"Base NLL\", base_ll_mean[i][j])\n",
    "            print()"
   ]
  },
  {
   "cell_type": "code",
   "execution_count": 9,
   "metadata": {},
   "outputs": [],
   "source": [
    "import spacy\n",
    "\n",
    "nlp = spacy.load(\"fr_core_news_sm\")\n"
   ]
  },
  {
   "cell_type": "code",
   "execution_count": 21,
   "metadata": {},
   "outputs": [
    {
     "name": "stdout",
     "output_type": "stream",
     "text": [
      "que\n",
      "Qu'est-ce que la réalité augmentée et le football professionnel ont à voir avec l'empathie ?\n",
      "\n",
      "que\n",
      "Le monde fait de vous quelque chose que vous n'êtes pas, Mais vous savez à l'intérieur ce que vous êtes, et cette question brûle dans votre cœur : Comment allez-vous le devenir ?\n",
      "\n",
      "que\n",
      "Il vous passe ce que vous voyez et entendez en ce moment même en images 3D, et avec le son surround, mais ce n'est que le début.\n",
      "\n",
      "quand\n",
      "Donc quand je suis devenue une top-modèle, J'ai senti que j'avais enfin réalisé le rêve que j'avais toujours eu depuis que j'étais petite.\n",
      "\n",
      "que\n",
      "Donc quand je suis devenue une top-modèle, J'ai senti que j'avais enfin réalisé le rêve que j'avais toujours eu depuis que j'étais petite.\n",
      "\n",
      "que\n",
      "Donc quand je suis devenue une top-modèle, J'ai senti que j'avais enfin réalisé le rêve que j'avais toujours eu depuis que j'étais petite.\n",
      "\n",
      "que\n",
      "Donc quand je suis devenue une top-modèle, J'ai senti que j'avais enfin réalisé le rêve que j'avais toujours eu depuis que j'étais petite.\n",
      "\n",
      "Quand\n",
      "Quand j'avais 15 ans, un membre de ma communauté a contacté mes parents et voulait me nominer au prix de la réussite de la communauté.\n",
      "\n",
      "parce\n",
      "La réalité augmentée est quelque chose qui va se produire durant notre vie et qui se produira parce que nous avons les outils pour que cela se produise, et les gens doivent le savoir, parce que la réalité augmentée va changer nos vies autant qu'Internet et le téléphone portable.\n",
      "\n",
      "que\n",
      "La réalité augmentée est quelque chose qui va se produire durant notre vie et qui se produira parce que nous avons les outils pour que cela se produise, et les gens doivent le savoir, parce que la réalité augmentée va changer nos vies autant qu'Internet et le téléphone portable.\n",
      "\n",
      "que\n",
      "La réalité augmentée est quelque chose qui va se produire durant notre vie et qui se produira parce que nous avons les outils pour que cela se produise, et les gens doivent le savoir, parce que la réalité augmentée va changer nos vies autant qu'Internet et le téléphone portable.\n",
      "\n",
      "parce\n",
      "La réalité augmentée est quelque chose qui va se produire durant notre vie et qui se produira parce que nous avons les outils pour que cela se produise, et les gens doivent le savoir, parce que la réalité augmentée va changer nos vies autant qu'Internet et le téléphone portable.\n",
      "\n",
      "que\n",
      "La réalité augmentée est quelque chose qui va se produire durant notre vie et qui se produira parce que nous avons les outils pour que cela se produise, et les gens doivent le savoir, parce que la réalité augmentée va changer nos vies autant qu'Internet et le téléphone portable.\n",
      "\n",
      "que\n",
      "Pour des raisons compliquées que j'expliquerai plus tard, quand je regarde cette photo, sur le moment je pensais, Geena, tu as réussi, tu l'as fait, tu y es arrivée.\n",
      "\n",
      "quand\n",
      "Pour des raisons compliquées que j'expliquerai plus tard, quand je regarde cette photo, sur le moment je pensais, Geena, tu as réussi, tu l'as fait, tu y es arrivée.\n",
      "\n",
      "que\n",
      "Mais en octobre dernier, je me suis rendue compte que je ne faisais que commencer.\n",
      "\n",
      "que\n",
      "Mais en octobre dernier, je me suis rendue compte que je ne faisais que commencer.\n",
      "\n",
      "que\n",
      "C'était là où on traînait, où on regardait la télé, donc, à chaque fois que j'allais de ma chambre à la salle de bains, tout le monde me regardait. A chaque fois que je prenais une douche et revenais avec ma serviette, tout le monde me regardait.\n",
      "\n",
      "que\n",
      "C'était là où on traînait, où on regardait la télé, donc, à chaque fois que j'allais de ma chambre à la salle de bains, tout le monde me regardait. A chaque fois que je prenais une douche et revenais avec ma serviette, tout le monde me regardait.\n",
      "\n",
      "que\n",
      "Ce n'est qu'à partir de mes 7 ans que notre dynamique familiale a changé.\n",
      "\n",
      "que\n",
      "Je suis sûr que beaucoup d'entre vous connaissent les Google Glass.\n",
      "\n",
      "que\n",
      "Apparemment, ses amis le font et ma mère m'a dit que je le faisais aussi, alors je me suis demandée : Quand est-ce que j'ai arrêté de faire ça ?\n",
      "\n",
      "que\n",
      "Apparemment, ses amis le font et ma mère m'a dit que je le faisais aussi, alors je me suis demandée : Quand est-ce que j'ai arrêté de faire ça ?\n",
      "\n",
      "que\n",
      "Ce que vous ne savez peut-être pas, c'est que les Google Glass vous permettront de voir ce que je vois.\n",
      "\n",
      "que\n",
      "Certains pensent que voyager entre les deux tours vous mènera vers une autre dimension - ce pont a été tellement romancé - que la chute vous libérera de vos soucis et de vos peines, que les eaux en dessous purifieront votre âme.\n",
      "\n",
      "que\n",
      "Certains pensent que voyager entre les deux tours vous mènera vers une autre dimension - ce pont a été tellement romancé - que la chute vous libérera de vos soucis et de vos peines, que les eaux en dessous purifieront votre âme.\n",
      "\n",
      "que\n",
      "Certains pensent que voyager entre les deux tours vous mènera vers une autre dimension - ce pont a été tellement romancé - que la chute vous libérera de vos soucis et de vos peines, que les eaux en dessous purifieront votre âme.\n",
      "\n",
      "Quand\n",
      "Quand cessons-nous soudainement d'aimer notre apparence ?\n",
      "\n",
      "que\n",
      "Mon expérience est que, quand les gens prennent le temps d'interagir les uns avec les autres, il ne faut pas longtemps pour comprendre qu'en majorité, nous voulons tous les mêmes choses dans la vie.\n",
      "\n",
      "quand\n",
      "Mon expérience est que, quand les gens prennent le temps d'interagir les uns avec les autres, il ne faut pas longtemps pour comprendre qu'en majorité, nous voulons tous les mêmes choses dans la vie.\n",
      "\n",
      "Parce\n",
      "Parce qu'apparemment, on n'aime pas notre apparence.\n",
      "\n",
      "que\n",
      "Cependant, dans chaque religion, dans chaque population, vous retrouvez le même faible pourcentage de gens qui ont une telle ferveur en leurs croyances qu'ils se sentent obligés de tout faire pour que les autres vivent de la même manière qu'eux.\n",
      "\n",
      "que\n",
      "Tous les mois, dix mille personnes tapent sur Google : « Est-ce que je suis laid ? »\n",
      "\n",
      "que\n",
      "Quelques mois avant son arrestation, il m'a expliqué que lui et quelques amis avaient, les derniers week-ends, été dans un club de tir de Long Island pour s'entraîner à tirer.\n",
      "\n",
      "si\n",
      "Je ne faisais rien qui pouvait être considéré comme une réussite, si l'on enlevait la question du handicap.\n",
      "\n",
      "que\n",
      "Ces sentiments, ces émotions, c'est la force de l'architecture. L'architecture, ce n'est pas que des maths, ni que du zonage. Ce sont ces connexions émotionnelles viscérales que nous ressentons dans les lieux que nous habitons.\n",
      "\n",
      "que\n",
      "Ces sentiments, ces émotions, c'est la force de l'architecture. L'architecture, ce n'est pas que des maths, ni que du zonage. Ce sont ces connexions émotionnelles viscérales que nous ressentons dans les lieux que nous habitons.\n",
      "\n",
      "quand\n",
      "Des années plus tard, j'étais en deuxième cycle d'enseignement dans un lycée de Melbourne, et ça faisait 20 minutes que je donnais un cours de droit à des secondes quand ce garçon a levé la main et dit : « Hey, Mademoiselle, quand est-ce que vous allez commencer votre discours ? »\n",
      "\n",
      "quand\n",
      "Des années plus tard, j'étais en deuxième cycle d'enseignement dans un lycée de Melbourne, et ça faisait 20 minutes que je donnais un cours de droit à des secondes quand ce garçon a levé la main et dit : « Hey, Mademoiselle, quand est-ce que vous allez commencer votre discours ? »\n",
      "\n",
      "que\n",
      "Des années plus tard, j'étais en deuxième cycle d'enseignement dans un lycée de Melbourne, et ça faisait 20 minutes que je donnais un cours de droit à des secondes quand ce garçon a levé la main et dit : « Hey, Mademoiselle, quand est-ce que vous allez commencer votre discours ? »\n",
      "\n",
      "quand\n",
      "Je me souviens quand j'avais cinq ans aux Philippines marchant autour de la maison, je portais toujours ce T-shirt sur ma tête.\n",
      "\n",
      "Quand\n",
      "Quand ce fut mon tour de tirer, mon père m'aida à caler le fusil contre mon épaule et m'expliqua comment viser la cible à environ 30 mètres.\n",
      "\n",
      "que\n",
      "Je ne pense pas que ceux qui envisagent cette méthode réalisent de quelle façon épouvantable ils feront face à la mort.\n",
      "\n",
      "que\n",
      "Je ne peux pas être sûr que vous autres soyez conscients.\n",
      "\n",
      "Ça\n",
      "Ça l'angoisse un peu, et elle est troublée car, bien que sa mère lui dise tout le temps qu'elle est belle, tous les jours à l'école, quelqu'un lui dit qu'elle est laide.\n",
      "\n",
      "que\n",
      "Ça l'angoisse un peu, et elle est troublée car, bien que sa mère lui dise tout le temps qu'elle est belle, tous les jours à l'école, quelqu'un lui dit qu'elle est laide.\n",
      "\n"
     ]
    },
    {
     "ename": "KeyboardInterrupt",
     "evalue": "",
     "output_type": "error",
     "traceback": [
      "\u001b[0;31m---------------------------------------------------------------------------\u001b[0m",
      "\u001b[0;31mKeyboardInterrupt\u001b[0m                         Traceback (most recent call last)",
      "\u001b[0;32m<ipython-input-21-3b6f95a0003a>\u001b[0m in \u001b[0;36m<module>\u001b[0;34m\u001b[0m\n\u001b[1;32m      2\u001b[0m \u001b[0;31m#pos_cxmi = defaultdict(list)\u001b[0m\u001b[0;34m\u001b[0m\u001b[0;34m\u001b[0m\u001b[0;34m\u001b[0m\u001b[0m\n\u001b[1;32m      3\u001b[0m \u001b[0;32mfor\u001b[0m \u001b[0mk\u001b[0m \u001b[0;32min\u001b[0m \u001b[0mrange\u001b[0m\u001b[0;34m(\u001b[0m\u001b[0mlen\u001b[0m\u001b[0;34m(\u001b[0m\u001b[0mword_cxmis_mean\u001b[0m\u001b[0;34m)\u001b[0m\u001b[0;34m)\u001b[0m\u001b[0;34m:\u001b[0m\u001b[0;34m\u001b[0m\u001b[0;34m\u001b[0m\u001b[0m\n\u001b[0;32m----> 4\u001b[0;31m     \u001b[0mdoc\u001b[0m \u001b[0;34m=\u001b[0m \u001b[0mnlp\u001b[0m\u001b[0;34m(\u001b[0m\u001b[0mdocuments\u001b[0m\u001b[0;34m[\u001b[0m\u001b[0mids\u001b[0m\u001b[0;34m[\u001b[0m\u001b[0mk\u001b[0m\u001b[0;34m]\u001b[0m\u001b[0;34m[\u001b[0m\u001b[0;36m0\u001b[0m\u001b[0;34m]\u001b[0m\u001b[0;34m]\u001b[0m\u001b[0;34m[\u001b[0m\u001b[0mids\u001b[0m\u001b[0;34m[\u001b[0m\u001b[0mk\u001b[0m\u001b[0;34m]\u001b[0m\u001b[0;34m[\u001b[0m\u001b[0;36m1\u001b[0m\u001b[0;34m]\u001b[0m\u001b[0;34m]\u001b[0m\u001b[0;34m[\u001b[0m\u001b[0;36m1\u001b[0m\u001b[0;34m]\u001b[0m\u001b[0;34m)\u001b[0m\u001b[0;34m\u001b[0m\u001b[0;34m\u001b[0m\u001b[0m\n\u001b[0m\u001b[1;32m      5\u001b[0m     \u001b[0mpos\u001b[0m \u001b[0;34m=\u001b[0m \u001b[0;34m[\u001b[0m\u001b[0;34m]\u001b[0m\u001b[0;34m\u001b[0m\u001b[0;34m\u001b[0m\u001b[0m\n\u001b[1;32m      6\u001b[0m     \u001b[0mscores\u001b[0m \u001b[0;34m=\u001b[0m \u001b[0;34m[\u001b[0m\u001b[0;34m]\u001b[0m\u001b[0;34m\u001b[0m\u001b[0;34m\u001b[0m\u001b[0m\n",
      "\u001b[0;32m~/miniconda3/envs/venv/lib/python3.8/site-packages/spacy/language.py\u001b[0m in \u001b[0;36m__call__\u001b[0;34m(self, text, disable, component_cfg)\u001b[0m\n\u001b[1;32m    447\u001b[0m             \u001b[0;32mif\u001b[0m \u001b[0;32mnot\u001b[0m \u001b[0mhasattr\u001b[0m\u001b[0;34m(\u001b[0m\u001b[0mproc\u001b[0m\u001b[0;34m,\u001b[0m \u001b[0;34m\"__call__\"\u001b[0m\u001b[0;34m)\u001b[0m\u001b[0;34m:\u001b[0m\u001b[0;34m\u001b[0m\u001b[0;34m\u001b[0m\u001b[0m\n\u001b[1;32m    448\u001b[0m                 \u001b[0;32mraise\u001b[0m \u001b[0mValueError\u001b[0m\u001b[0;34m(\u001b[0m\u001b[0mErrors\u001b[0m\u001b[0;34m.\u001b[0m\u001b[0mE003\u001b[0m\u001b[0;34m.\u001b[0m\u001b[0mformat\u001b[0m\u001b[0;34m(\u001b[0m\u001b[0mcomponent\u001b[0m\u001b[0;34m=\u001b[0m\u001b[0mtype\u001b[0m\u001b[0;34m(\u001b[0m\u001b[0mproc\u001b[0m\u001b[0;34m)\u001b[0m\u001b[0;34m,\u001b[0m \u001b[0mname\u001b[0m\u001b[0;34m=\u001b[0m\u001b[0mname\u001b[0m\u001b[0;34m)\u001b[0m\u001b[0;34m)\u001b[0m\u001b[0;34m\u001b[0m\u001b[0;34m\u001b[0m\u001b[0m\n\u001b[0;32m--> 449\u001b[0;31m             \u001b[0mdoc\u001b[0m \u001b[0;34m=\u001b[0m \u001b[0mproc\u001b[0m\u001b[0;34m(\u001b[0m\u001b[0mdoc\u001b[0m\u001b[0;34m,\u001b[0m \u001b[0;34m**\u001b[0m\u001b[0mcomponent_cfg\u001b[0m\u001b[0;34m.\u001b[0m\u001b[0mget\u001b[0m\u001b[0;34m(\u001b[0m\u001b[0mname\u001b[0m\u001b[0;34m,\u001b[0m \u001b[0;34m{\u001b[0m\u001b[0;34m}\u001b[0m\u001b[0;34m)\u001b[0m\u001b[0;34m)\u001b[0m\u001b[0;34m\u001b[0m\u001b[0;34m\u001b[0m\u001b[0m\n\u001b[0m\u001b[1;32m    450\u001b[0m             \u001b[0;32mif\u001b[0m \u001b[0mdoc\u001b[0m \u001b[0;32mis\u001b[0m \u001b[0;32mNone\u001b[0m\u001b[0;34m:\u001b[0m\u001b[0;34m\u001b[0m\u001b[0;34m\u001b[0m\u001b[0m\n\u001b[1;32m    451\u001b[0m                 \u001b[0;32mraise\u001b[0m \u001b[0mValueError\u001b[0m\u001b[0;34m(\u001b[0m\u001b[0mErrors\u001b[0m\u001b[0;34m.\u001b[0m\u001b[0mE005\u001b[0m\u001b[0;34m.\u001b[0m\u001b[0mformat\u001b[0m\u001b[0;34m(\u001b[0m\u001b[0mname\u001b[0m\u001b[0;34m=\u001b[0m\u001b[0mname\u001b[0m\u001b[0;34m)\u001b[0m\u001b[0;34m)\u001b[0m\u001b[0;34m\u001b[0m\u001b[0;34m\u001b[0m\u001b[0m\n",
      "\u001b[0;32mnn_parser.pyx\u001b[0m in \u001b[0;36mspacy.syntax.nn_parser.Parser.__call__\u001b[0;34m()\u001b[0m\n",
      "\u001b[0;32mnn_parser.pyx\u001b[0m in \u001b[0;36mspacy.syntax.nn_parser.Parser.predict\u001b[0;34m()\u001b[0m\n",
      "\u001b[0;32mnn_parser.pyx\u001b[0m in \u001b[0;36mspacy.syntax.nn_parser.Parser.greedy_parse\u001b[0;34m()\u001b[0m\n",
      "\u001b[0;32m~/miniconda3/envs/venv/lib/python3.8/site-packages/thinc/neural/_classes/model.py\u001b[0m in \u001b[0;36m__call__\u001b[0;34m(self, x)\u001b[0m\n\u001b[1;32m    165\u001b[0m             \u001b[0mMust\u001b[0m \u001b[0mmatch\u001b[0m \u001b[0mexpected\u001b[0m \u001b[0mshape\u001b[0m\u001b[0;34m\u001b[0m\u001b[0;34m\u001b[0m\u001b[0m\n\u001b[1;32m    166\u001b[0m         \"\"\"\n\u001b[0;32m--> 167\u001b[0;31m         \u001b[0;32mreturn\u001b[0m \u001b[0mself\u001b[0m\u001b[0;34m.\u001b[0m\u001b[0mpredict\u001b[0m\u001b[0;34m(\u001b[0m\u001b[0mx\u001b[0m\u001b[0;34m)\u001b[0m\u001b[0;34m\u001b[0m\u001b[0;34m\u001b[0m\u001b[0m\n\u001b[0m\u001b[1;32m    168\u001b[0m \u001b[0;34m\u001b[0m\u001b[0m\n\u001b[1;32m    169\u001b[0m     \u001b[0;32mdef\u001b[0m \u001b[0mpipe\u001b[0m\u001b[0;34m(\u001b[0m\u001b[0mself\u001b[0m\u001b[0;34m,\u001b[0m \u001b[0mstream\u001b[0m\u001b[0;34m,\u001b[0m \u001b[0mbatch_size\u001b[0m\u001b[0;34m=\u001b[0m\u001b[0;36m128\u001b[0m\u001b[0;34m)\u001b[0m\u001b[0;34m:\u001b[0m\u001b[0;34m\u001b[0m\u001b[0;34m\u001b[0m\u001b[0m\n",
      "\u001b[0;32m~/miniconda3/envs/venv/lib/python3.8/site-packages/thinc/neural/_classes/model.py\u001b[0m in \u001b[0;36mpredict\u001b[0;34m(self, X)\u001b[0m\n\u001b[1;32m    129\u001b[0m \u001b[0;34m\u001b[0m\u001b[0m\n\u001b[1;32m    130\u001b[0m     \u001b[0;32mdef\u001b[0m \u001b[0mpredict\u001b[0m\u001b[0;34m(\u001b[0m\u001b[0mself\u001b[0m\u001b[0;34m,\u001b[0m \u001b[0mX\u001b[0m\u001b[0;34m)\u001b[0m\u001b[0;34m:\u001b[0m\u001b[0;34m\u001b[0m\u001b[0;34m\u001b[0m\u001b[0m\n\u001b[0;32m--> 131\u001b[0;31m         \u001b[0my\u001b[0m\u001b[0;34m,\u001b[0m \u001b[0m_\u001b[0m \u001b[0;34m=\u001b[0m \u001b[0mself\u001b[0m\u001b[0;34m.\u001b[0m\u001b[0mbegin_update\u001b[0m\u001b[0;34m(\u001b[0m\u001b[0mX\u001b[0m\u001b[0;34m,\u001b[0m \u001b[0mdrop\u001b[0m\u001b[0;34m=\u001b[0m\u001b[0;32mNone\u001b[0m\u001b[0;34m)\u001b[0m\u001b[0;34m\u001b[0m\u001b[0;34m\u001b[0m\u001b[0m\n\u001b[0m\u001b[1;32m    132\u001b[0m         \u001b[0;32mreturn\u001b[0m \u001b[0my\u001b[0m\u001b[0;34m\u001b[0m\u001b[0;34m\u001b[0m\u001b[0m\n\u001b[1;32m    133\u001b[0m \u001b[0;34m\u001b[0m\u001b[0m\n",
      "\u001b[0;32m_parser_model.pyx\u001b[0m in \u001b[0;36mspacy.syntax._parser_model.ParserModel.begin_update\u001b[0;34m()\u001b[0m\n",
      "\u001b[0;32m_parser_model.pyx\u001b[0m in \u001b[0;36mspacy.syntax._parser_model.ParserStepModel.__init__\u001b[0;34m()\u001b[0m\n",
      "\u001b[0;32m~/miniconda3/envs/venv/lib/python3.8/site-packages/thinc/neural/_classes/feed_forward.py\u001b[0m in \u001b[0;36mbegin_update\u001b[0;34m(self, X, drop)\u001b[0m\n\u001b[1;32m     44\u001b[0m         \u001b[0mcallbacks\u001b[0m \u001b[0;34m=\u001b[0m \u001b[0;34m[\u001b[0m\u001b[0;34m]\u001b[0m\u001b[0;34m\u001b[0m\u001b[0;34m\u001b[0m\u001b[0m\n\u001b[1;32m     45\u001b[0m         \u001b[0;32mfor\u001b[0m \u001b[0mlayer\u001b[0m \u001b[0;32min\u001b[0m \u001b[0mself\u001b[0m\u001b[0;34m.\u001b[0m\u001b[0m_layers\u001b[0m\u001b[0;34m:\u001b[0m\u001b[0;34m\u001b[0m\u001b[0;34m\u001b[0m\u001b[0m\n\u001b[0;32m---> 46\u001b[0;31m             \u001b[0mX\u001b[0m\u001b[0;34m,\u001b[0m \u001b[0minc_layer_grad\u001b[0m \u001b[0;34m=\u001b[0m \u001b[0mlayer\u001b[0m\u001b[0;34m.\u001b[0m\u001b[0mbegin_update\u001b[0m\u001b[0;34m(\u001b[0m\u001b[0mX\u001b[0m\u001b[0;34m,\u001b[0m \u001b[0mdrop\u001b[0m\u001b[0;34m=\u001b[0m\u001b[0mdrop\u001b[0m\u001b[0;34m)\u001b[0m\u001b[0;34m\u001b[0m\u001b[0;34m\u001b[0m\u001b[0m\n\u001b[0m\u001b[1;32m     47\u001b[0m             \u001b[0mcallbacks\u001b[0m\u001b[0;34m.\u001b[0m\u001b[0mappend\u001b[0m\u001b[0;34m(\u001b[0m\u001b[0minc_layer_grad\u001b[0m\u001b[0;34m)\u001b[0m\u001b[0;34m\u001b[0m\u001b[0;34m\u001b[0m\u001b[0m\n\u001b[1;32m     48\u001b[0m \u001b[0;34m\u001b[0m\u001b[0m\n",
      "\u001b[0;32m~/miniconda3/envs/venv/lib/python3.8/site-packages/thinc/api.py\u001b[0m in \u001b[0;36mbegin_update\u001b[0;34m(seqs_in, drop)\u001b[0m\n\u001b[1;32m    293\u001b[0m     \u001b[0;32mdef\u001b[0m \u001b[0mbegin_update\u001b[0m\u001b[0;34m(\u001b[0m\u001b[0mseqs_in\u001b[0m\u001b[0;34m,\u001b[0m \u001b[0mdrop\u001b[0m\u001b[0;34m=\u001b[0m\u001b[0;36m0.0\u001b[0m\u001b[0;34m)\u001b[0m\u001b[0;34m:\u001b[0m\u001b[0;34m\u001b[0m\u001b[0;34m\u001b[0m\u001b[0m\n\u001b[1;32m    294\u001b[0m         \u001b[0mlengths\u001b[0m \u001b[0;34m=\u001b[0m \u001b[0mlayer\u001b[0m\u001b[0;34m.\u001b[0m\u001b[0mops\u001b[0m\u001b[0;34m.\u001b[0m\u001b[0masarray\u001b[0m\u001b[0;34m(\u001b[0m\u001b[0;34m[\u001b[0m\u001b[0mlen\u001b[0m\u001b[0;34m(\u001b[0m\u001b[0mseq\u001b[0m\u001b[0;34m)\u001b[0m \u001b[0;32mfor\u001b[0m \u001b[0mseq\u001b[0m \u001b[0;32min\u001b[0m \u001b[0mseqs_in\u001b[0m\u001b[0;34m]\u001b[0m\u001b[0;34m)\u001b[0m\u001b[0;34m\u001b[0m\u001b[0;34m\u001b[0m\u001b[0m\n\u001b[0;32m--> 295\u001b[0;31m         \u001b[0mX\u001b[0m\u001b[0;34m,\u001b[0m \u001b[0mbp_layer\u001b[0m \u001b[0;34m=\u001b[0m \u001b[0mlayer\u001b[0m\u001b[0;34m.\u001b[0m\u001b[0mbegin_update\u001b[0m\u001b[0;34m(\u001b[0m\u001b[0mlayer\u001b[0m\u001b[0;34m.\u001b[0m\u001b[0mops\u001b[0m\u001b[0;34m.\u001b[0m\u001b[0mflatten\u001b[0m\u001b[0;34m(\u001b[0m\u001b[0mseqs_in\u001b[0m\u001b[0;34m,\u001b[0m \u001b[0mpad\u001b[0m\u001b[0;34m=\u001b[0m\u001b[0mpad\u001b[0m\u001b[0;34m)\u001b[0m\u001b[0;34m,\u001b[0m \u001b[0mdrop\u001b[0m\u001b[0;34m=\u001b[0m\u001b[0mdrop\u001b[0m\u001b[0;34m)\u001b[0m\u001b[0;34m\u001b[0m\u001b[0;34m\u001b[0m\u001b[0m\n\u001b[0m\u001b[1;32m    296\u001b[0m         \u001b[0;32mif\u001b[0m \u001b[0mbp_layer\u001b[0m \u001b[0;32mis\u001b[0m \u001b[0;32mNone\u001b[0m\u001b[0;34m:\u001b[0m\u001b[0;34m\u001b[0m\u001b[0;34m\u001b[0m\u001b[0m\n\u001b[1;32m    297\u001b[0m             \u001b[0;32mreturn\u001b[0m \u001b[0mlayer\u001b[0m\u001b[0;34m.\u001b[0m\u001b[0mops\u001b[0m\u001b[0;34m.\u001b[0m\u001b[0munflatten\u001b[0m\u001b[0;34m(\u001b[0m\u001b[0mX\u001b[0m\u001b[0;34m,\u001b[0m \u001b[0mlengths\u001b[0m\u001b[0;34m,\u001b[0m \u001b[0mpad\u001b[0m\u001b[0;34m=\u001b[0m\u001b[0mpad\u001b[0m\u001b[0;34m)\u001b[0m\u001b[0;34m,\u001b[0m \u001b[0;32mNone\u001b[0m\u001b[0;34m\u001b[0m\u001b[0;34m\u001b[0m\u001b[0m\n",
      "\u001b[0;32m~/miniconda3/envs/venv/lib/python3.8/site-packages/thinc/neural/_classes/feed_forward.py\u001b[0m in \u001b[0;36mbegin_update\u001b[0;34m(self, X, drop)\u001b[0m\n\u001b[1;32m     44\u001b[0m         \u001b[0mcallbacks\u001b[0m \u001b[0;34m=\u001b[0m \u001b[0;34m[\u001b[0m\u001b[0;34m]\u001b[0m\u001b[0;34m\u001b[0m\u001b[0;34m\u001b[0m\u001b[0m\n\u001b[1;32m     45\u001b[0m         \u001b[0;32mfor\u001b[0m \u001b[0mlayer\u001b[0m \u001b[0;32min\u001b[0m \u001b[0mself\u001b[0m\u001b[0;34m.\u001b[0m\u001b[0m_layers\u001b[0m\u001b[0;34m:\u001b[0m\u001b[0;34m\u001b[0m\u001b[0;34m\u001b[0m\u001b[0m\n\u001b[0;32m---> 46\u001b[0;31m             \u001b[0mX\u001b[0m\u001b[0;34m,\u001b[0m \u001b[0minc_layer_grad\u001b[0m \u001b[0;34m=\u001b[0m \u001b[0mlayer\u001b[0m\u001b[0;34m.\u001b[0m\u001b[0mbegin_update\u001b[0m\u001b[0;34m(\u001b[0m\u001b[0mX\u001b[0m\u001b[0;34m,\u001b[0m \u001b[0mdrop\u001b[0m\u001b[0;34m=\u001b[0m\u001b[0mdrop\u001b[0m\u001b[0;34m)\u001b[0m\u001b[0;34m\u001b[0m\u001b[0;34m\u001b[0m\u001b[0m\n\u001b[0m\u001b[1;32m     47\u001b[0m             \u001b[0mcallbacks\u001b[0m\u001b[0;34m.\u001b[0m\u001b[0mappend\u001b[0m\u001b[0;34m(\u001b[0m\u001b[0minc_layer_grad\u001b[0m\u001b[0;34m)\u001b[0m\u001b[0;34m\u001b[0m\u001b[0;34m\u001b[0m\u001b[0m\n\u001b[1;32m     48\u001b[0m \u001b[0;34m\u001b[0m\u001b[0m\n",
      "\u001b[0;32m~/miniconda3/envs/venv/lib/python3.8/site-packages/thinc/neural/_classes/resnet.py\u001b[0m in \u001b[0;36mbegin_update\u001b[0;34m(self, X, drop)\u001b[0m\n\u001b[1;32m     27\u001b[0m \u001b[0;34m\u001b[0m\u001b[0m\n\u001b[1;32m     28\u001b[0m     \u001b[0;32mdef\u001b[0m \u001b[0mbegin_update\u001b[0m\u001b[0;34m(\u001b[0m\u001b[0mself\u001b[0m\u001b[0;34m,\u001b[0m \u001b[0mX\u001b[0m\u001b[0;34m,\u001b[0m \u001b[0mdrop\u001b[0m\u001b[0;34m=\u001b[0m\u001b[0;36m0.0\u001b[0m\u001b[0;34m)\u001b[0m\u001b[0;34m:\u001b[0m\u001b[0;34m\u001b[0m\u001b[0;34m\u001b[0m\u001b[0m\n\u001b[0;32m---> 29\u001b[0;31m         \u001b[0my\u001b[0m\u001b[0;34m,\u001b[0m \u001b[0mbp_y\u001b[0m \u001b[0;34m=\u001b[0m \u001b[0mself\u001b[0m\u001b[0;34m.\u001b[0m\u001b[0m_layers\u001b[0m\u001b[0;34m[\u001b[0m\u001b[0;36m0\u001b[0m\u001b[0;34m]\u001b[0m\u001b[0;34m.\u001b[0m\u001b[0mbegin_update\u001b[0m\u001b[0;34m(\u001b[0m\u001b[0mX\u001b[0m\u001b[0;34m,\u001b[0m \u001b[0mdrop\u001b[0m\u001b[0;34m=\u001b[0m\u001b[0mdrop\u001b[0m\u001b[0;34m)\u001b[0m\u001b[0;34m\u001b[0m\u001b[0;34m\u001b[0m\u001b[0m\n\u001b[0m\u001b[1;32m     30\u001b[0m         \u001b[0;32mif\u001b[0m \u001b[0misinstance\u001b[0m\u001b[0;34m(\u001b[0m\u001b[0mX\u001b[0m\u001b[0;34m,\u001b[0m \u001b[0mlist\u001b[0m\u001b[0;34m)\u001b[0m\u001b[0;34m:\u001b[0m\u001b[0;34m\u001b[0m\u001b[0;34m\u001b[0m\u001b[0m\n\u001b[1;32m     31\u001b[0m             \u001b[0moutput\u001b[0m \u001b[0;34m=\u001b[0m \u001b[0;34m[\u001b[0m\u001b[0mX\u001b[0m\u001b[0;34m[\u001b[0m\u001b[0mi\u001b[0m\u001b[0;34m]\u001b[0m \u001b[0;34m+\u001b[0m \u001b[0my\u001b[0m\u001b[0;34m[\u001b[0m\u001b[0mi\u001b[0m\u001b[0;34m]\u001b[0m \u001b[0;32mfor\u001b[0m \u001b[0mi\u001b[0m \u001b[0;32min\u001b[0m \u001b[0mrange\u001b[0m\u001b[0;34m(\u001b[0m\u001b[0mlen\u001b[0m\u001b[0;34m(\u001b[0m\u001b[0mX\u001b[0m\u001b[0;34m)\u001b[0m\u001b[0;34m)\u001b[0m\u001b[0;34m]\u001b[0m\u001b[0;34m\u001b[0m\u001b[0;34m\u001b[0m\u001b[0m\n",
      "\u001b[0;32m~/miniconda3/envs/venv/lib/python3.8/site-packages/thinc/neural/_classes/feed_forward.py\u001b[0m in \u001b[0;36mbegin_update\u001b[0;34m(self, X, drop)\u001b[0m\n\u001b[1;32m     44\u001b[0m         \u001b[0mcallbacks\u001b[0m \u001b[0;34m=\u001b[0m \u001b[0;34m[\u001b[0m\u001b[0;34m]\u001b[0m\u001b[0;34m\u001b[0m\u001b[0;34m\u001b[0m\u001b[0m\n\u001b[1;32m     45\u001b[0m         \u001b[0;32mfor\u001b[0m \u001b[0mlayer\u001b[0m \u001b[0;32min\u001b[0m \u001b[0mself\u001b[0m\u001b[0;34m.\u001b[0m\u001b[0m_layers\u001b[0m\u001b[0;34m:\u001b[0m\u001b[0;34m\u001b[0m\u001b[0;34m\u001b[0m\u001b[0m\n\u001b[0;32m---> 46\u001b[0;31m             \u001b[0mX\u001b[0m\u001b[0;34m,\u001b[0m \u001b[0minc_layer_grad\u001b[0m \u001b[0;34m=\u001b[0m \u001b[0mlayer\u001b[0m\u001b[0;34m.\u001b[0m\u001b[0mbegin_update\u001b[0m\u001b[0;34m(\u001b[0m\u001b[0mX\u001b[0m\u001b[0;34m,\u001b[0m \u001b[0mdrop\u001b[0m\u001b[0;34m=\u001b[0m\u001b[0mdrop\u001b[0m\u001b[0;34m)\u001b[0m\u001b[0;34m\u001b[0m\u001b[0;34m\u001b[0m\u001b[0m\n\u001b[0m\u001b[1;32m     47\u001b[0m             \u001b[0mcallbacks\u001b[0m\u001b[0;34m.\u001b[0m\u001b[0mappend\u001b[0m\u001b[0;34m(\u001b[0m\u001b[0minc_layer_grad\u001b[0m\u001b[0;34m)\u001b[0m\u001b[0;34m\u001b[0m\u001b[0;34m\u001b[0m\u001b[0m\n\u001b[1;32m     48\u001b[0m \u001b[0;34m\u001b[0m\u001b[0m\n",
      "\u001b[0;32m~/miniconda3/envs/venv/lib/python3.8/site-packages/thinc/neural/_classes/layernorm.py\u001b[0m in \u001b[0;36mbegin_update\u001b[0;34m(self, X, drop)\u001b[0m\n\u001b[1;32m     63\u001b[0m         \u001b[0;32melse\u001b[0m\u001b[0;34m:\u001b[0m\u001b[0;34m\u001b[0m\u001b[0;34m\u001b[0m\u001b[0m\n\u001b[1;32m     64\u001b[0m             \u001b[0mbackprop_child\u001b[0m \u001b[0;34m=\u001b[0m \u001b[0;32mNone\u001b[0m\u001b[0;34m\u001b[0m\u001b[0;34m\u001b[0m\u001b[0m\n\u001b[0;32m---> 65\u001b[0;31m         \u001b[0mN\u001b[0m\u001b[0;34m,\u001b[0m \u001b[0mmu\u001b[0m\u001b[0;34m,\u001b[0m \u001b[0mvar\u001b[0m \u001b[0;34m=\u001b[0m \u001b[0m_get_moments\u001b[0m\u001b[0;34m(\u001b[0m\u001b[0mself\u001b[0m\u001b[0;34m.\u001b[0m\u001b[0mops\u001b[0m\u001b[0;34m,\u001b[0m \u001b[0mX\u001b[0m\u001b[0;34m)\u001b[0m\u001b[0;34m\u001b[0m\u001b[0;34m\u001b[0m\u001b[0m\n\u001b[0m\u001b[1;32m     66\u001b[0m \u001b[0;34m\u001b[0m\u001b[0m\n\u001b[1;32m     67\u001b[0m         \u001b[0mXhat\u001b[0m \u001b[0;34m=\u001b[0m \u001b[0m_forward\u001b[0m\u001b[0;34m(\u001b[0m\u001b[0mself\u001b[0m\u001b[0;34m.\u001b[0m\u001b[0mops\u001b[0m\u001b[0;34m,\u001b[0m \u001b[0mX\u001b[0m\u001b[0;34m,\u001b[0m \u001b[0mmu\u001b[0m\u001b[0;34m,\u001b[0m \u001b[0mvar\u001b[0m\u001b[0;34m)\u001b[0m\u001b[0;34m\u001b[0m\u001b[0;34m\u001b[0m\u001b[0m\n",
      "\u001b[0;32m~/miniconda3/envs/venv/lib/python3.8/site-packages/thinc/neural/_classes/layernorm.py\u001b[0m in \u001b[0;36m_get_moments\u001b[0;34m(ops, X)\u001b[0m\n\u001b[1;32m    106\u001b[0m         \u001b[0;32mreturn\u001b[0m \u001b[0m_get_moments_reproduce_bug\u001b[0m\u001b[0;34m(\u001b[0m\u001b[0mops\u001b[0m\u001b[0;34m,\u001b[0m \u001b[0mX\u001b[0m\u001b[0;34m)\u001b[0m\u001b[0;34m\u001b[0m\u001b[0;34m\u001b[0m\u001b[0m\n\u001b[1;32m    107\u001b[0m     \u001b[0mmu\u001b[0m \u001b[0;34m=\u001b[0m \u001b[0mX\u001b[0m\u001b[0;34m.\u001b[0m\u001b[0mmean\u001b[0m\u001b[0;34m(\u001b[0m\u001b[0maxis\u001b[0m\u001b[0;34m=\u001b[0m\u001b[0;36m1\u001b[0m\u001b[0;34m,\u001b[0m \u001b[0mkeepdims\u001b[0m\u001b[0;34m=\u001b[0m\u001b[0;32mTrue\u001b[0m\u001b[0;34m)\u001b[0m\u001b[0;34m\u001b[0m\u001b[0;34m\u001b[0m\u001b[0m\n\u001b[0;32m--> 108\u001b[0;31m     \u001b[0mvar\u001b[0m \u001b[0;34m=\u001b[0m \u001b[0mX\u001b[0m\u001b[0;34m.\u001b[0m\u001b[0mvar\u001b[0m\u001b[0;34m(\u001b[0m\u001b[0maxis\u001b[0m\u001b[0;34m=\u001b[0m\u001b[0;36m1\u001b[0m\u001b[0;34m,\u001b[0m \u001b[0mkeepdims\u001b[0m\u001b[0;34m=\u001b[0m\u001b[0;32mTrue\u001b[0m\u001b[0;34m)\u001b[0m \u001b[0;34m+\u001b[0m \u001b[0;36m1e-08\u001b[0m\u001b[0;34m\u001b[0m\u001b[0;34m\u001b[0m\u001b[0m\n\u001b[0m\u001b[1;32m    109\u001b[0m     \u001b[0;32mreturn\u001b[0m \u001b[0mops\u001b[0m\u001b[0;34m.\u001b[0m\u001b[0masarray\u001b[0m\u001b[0;34m(\u001b[0m\u001b[0;34m[\u001b[0m\u001b[0mX\u001b[0m\u001b[0;34m.\u001b[0m\u001b[0mshape\u001b[0m\u001b[0;34m[\u001b[0m\u001b[0;36m1\u001b[0m\u001b[0;34m]\u001b[0m\u001b[0;34m]\u001b[0m\u001b[0;34m,\u001b[0m \u001b[0mdtype\u001b[0m\u001b[0;34m=\u001b[0m\u001b[0;34m\"f\"\u001b[0m\u001b[0;34m)\u001b[0m\u001b[0;34m,\u001b[0m \u001b[0mmu\u001b[0m\u001b[0;34m,\u001b[0m \u001b[0mvar\u001b[0m\u001b[0;34m\u001b[0m\u001b[0;34m\u001b[0m\u001b[0m\n\u001b[1;32m    110\u001b[0m \u001b[0;34m\u001b[0m\u001b[0m\n",
      "\u001b[0;32m~/miniconda3/envs/venv/lib/python3.8/site-packages/numpy/core/_methods.py\u001b[0m in \u001b[0;36m_var\u001b[0;34m(a, axis, dtype, out, ddof, keepdims)\u001b[0m\n\u001b[1;32m    190\u001b[0m     \u001b[0;31m# Note that if dtype is not of inexact type then arraymean will\u001b[0m\u001b[0;34m\u001b[0m\u001b[0;34m\u001b[0m\u001b[0;34m\u001b[0m\u001b[0m\n\u001b[1;32m    191\u001b[0m     \u001b[0;31m# not be either.\u001b[0m\u001b[0;34m\u001b[0m\u001b[0;34m\u001b[0m\u001b[0;34m\u001b[0m\u001b[0m\n\u001b[0;32m--> 192\u001b[0;31m     \u001b[0marrmean\u001b[0m \u001b[0;34m=\u001b[0m \u001b[0mumr_sum\u001b[0m\u001b[0;34m(\u001b[0m\u001b[0marr\u001b[0m\u001b[0;34m,\u001b[0m \u001b[0maxis\u001b[0m\u001b[0;34m,\u001b[0m \u001b[0mdtype\u001b[0m\u001b[0;34m,\u001b[0m \u001b[0mkeepdims\u001b[0m\u001b[0;34m=\u001b[0m\u001b[0;32mTrue\u001b[0m\u001b[0;34m)\u001b[0m\u001b[0;34m\u001b[0m\u001b[0;34m\u001b[0m\u001b[0m\n\u001b[0m\u001b[1;32m    193\u001b[0m     \u001b[0;32mif\u001b[0m \u001b[0misinstance\u001b[0m\u001b[0;34m(\u001b[0m\u001b[0marrmean\u001b[0m\u001b[0;34m,\u001b[0m \u001b[0mmu\u001b[0m\u001b[0;34m.\u001b[0m\u001b[0mndarray\u001b[0m\u001b[0;34m)\u001b[0m\u001b[0;34m:\u001b[0m\u001b[0;34m\u001b[0m\u001b[0;34m\u001b[0m\u001b[0m\n\u001b[1;32m    194\u001b[0m         arrmean = um.true_divide(\n",
      "\u001b[0;31mKeyboardInterrupt\u001b[0m: "
     ]
    }
   ],
   "source": [
    "from collections import defaultdict\n",
    "#pos_cxmi = defaultdict(list)\n",
    "for k in range(len(word_cxmis_mean)):\n",
    "    doc = nlp(documents[ids[k][0]][ids[k][1]][1])\n",
    "    pos = []\n",
    "    scores = []\n",
    "    words = documents[ids[k][0]][ids[k][1]][1].split()\n",
    "    j = 0\n",
    "    for token in doc:\n",
    "        if (\"'\" not in token.text or token.text.lower() == \"aujourd'hui\") and (not token.text.startswith(\"-\")) and (not token.text.endswith(\"-\")) and (token.text == \"«\" or token.text == \"?\" or token.text == \":\" or token.pos_ != 'PUNCT'):\n",
    "            \n",
    "            if token.pos_ not in [\"PUNCT\", \"SPACE\"]:\n",
    "                pos.append(token.pos_)\n",
    "                if token.pos_ == \"SCONJ\":\n",
    "                    print(token.text)\n",
    "                    print(documents[ids[k][0]][ids[k][1]][1])\n",
    "                    print()\n",
    "                try:\n",
    "                    assert token.text in words[j]\n",
    "                    scores.append(word_cxmis_mean[k][j])\n",
    "                except:\n",
    "                   # print(token.text)\n",
    "                   # print(words[min(len(words), j) - 1])\n",
    "                   # print()\n",
    "                    scores.append(word_cxmis_mean[k][min(len(words), j)-1])\n",
    "\n",
    "            j += 1\n",
    "    #for p, score in zip(pos, scores):\n",
    "    #    pos_cxmi[p].append(score)"
   ]
  },
  {
   "cell_type": "code",
   "execution_count": 18,
   "metadata": {},
   "outputs": [],
   "source": [
    "pos_names = []\n",
    "pos_scores = []\n",
    "for k,v in pos_cxmi.items():\n",
    "    pos_names.append(k)\n",
    "    pos_scores.append([s for s in v if s > -10])"
   ]
  },
  {
   "cell_type": "code",
   "execution_count": 19,
   "metadata": {},
   "outputs": [
    {
     "data": {
      "image/png": "[encoded data removed]",
      "text/plain": [
       "<Figure size 720x216 with 1 Axes>"
      ]
     },
     "metadata": {
      "needs_background": "light"
     },
     "output_type": "display_data"
    }
   ],
   "source": [
    "import matplotlib.pyplot as plt\n",
    "\n",
    "fig = plt.figure(figsize=(10,3))\n",
    "ax = fig.add_axes([0,0,1,1])\n",
    "bp = ax.violinplot(pos_scores)\n",
    "plt.xticks(np.arange(len(pos_names)+1), [\"\"]+pos_names)\n",
    "plt.show()"
   ]
  },
  {
   "cell_type": "code",
   "execution_count": 15,
   "metadata": {},
   "outputs": [],
   "source": [
    "pos = []\n",
    "neg = []\n",
    "for scores in word_cxmis_mean:\n",
    "    for s in scores:\n",
    "        if s >= 0: \n",
    "            pos.append(s.item())\n",
    "        else:\n",
    "            neg.append(s.item())"
   ]
  },
  {
   "cell_type": "code",
   "execution_count": 16,
   "metadata": {},
   "outputs": [
    {
     "data": {
      "text/plain": [
       "(10661, 10686)"
      ]
     },
     "execution_count": 16,
     "metadata": {},
     "output_type": "execute_result"
    }
   ],
   "source": [
    "len(pos), len(neg)"
   ]
  },
  {
   "cell_type": "code",
   "execution_count": 17,
   "metadata": {},
   "outputs": [
    {
     "data": {
      "text/plain": [
       "(0.10044231058395926, -0.16652800128139034)"
      ]
     },
     "execution_count": 17,
     "metadata": {},
     "output_type": "execute_result"
    }
   ],
   "source": [
    "sum(pos)/len(pos), sum(neg)/len(neg)"
   ]
  },
  {
   "cell_type": "code",
   "execution_count": 149,
   "metadata": {},
   "outputs": [
    {
     "data": {
      "image/png": "[encoded data removed]",
      "text/plain": [
       "<Figure size 720x216 with 1 Axes>"
      ]
     },
     "metadata": {
      "needs_background": "light"
     },
     "output_type": "display_data"
    }
   ],
   "source": [
    "import matplotlib.pyplot as plt\n",
    "\n",
    "fig = plt.figure(figsize=(10,3))\n",
    "ax = fig.add_axes([0,0,1,1])\n",
    "bp = ax.violinplot(pos_scores)\n",
    "plt.xticks(np.arange(len(pos_names)+1), [\"\"]+pos_names)\n",
    "plt.show()"
   ]
  },
  {
   "cell_type": "code",
   "execution_count": 178,
   "metadata": {},
   "outputs": [],
   "source": [
    "with open('coword-enfr-word-cxmi-2.txt', 'w') as file:\n",
    "    for k in range(len(word_cxmis_mean)):\n",
    "        if k > 7:\n",
    "            file.write(f'Prev-src: {documents[ids[k-1][0]][ids[k-1][1]][0]}\\n')\n",
    "            file.write(f'Prev-tgt: {documents[ids[k-1][0]][ids[k-1][1]][1]}\\n')\n",
    "        file.write(f'Cur-src: {documents[ids[k][0]][ids[k][1]][0]}\\n')\n",
    "        file.write(f'Cur-tgt: {documents[ids[k][0]][ids[k][1]][1]}\\n')\n",
    "        file.write(\"CXMI: \")\n",
    "        for s in word_cxmis_mean[k]:\n",
    "            file.write(str(round(s.item(), 3)) + ' ')\n",
    "        file.write('\\n')\n",
    "        if k > 7:\n",
    "            file.write(\"Contextual-NLL: \")\n",
    "            for s in context_ll_mean[k]:\n",
    "                file.write(str(round(s.item(), 3)) + ' ')\n",
    "            file.write('\\n')\n",
    "        file.write(\"Baseline-NLL: \")\n",
    "        for s in base_ll_mean[k]:\n",
    "            file.write(str(round(s.item(), 3)) + ' ')\n",
    "        file.write('\\n\\n')"
   ]
  },
  {
   "cell_type": "code",
   "execution_count": 93,
   "metadata": {},
   "outputs": [
    {
     "data": {
      "text/plain": [
       "[0.0032822804,\n",
       " 0.051517323,\n",
       " 0.4049058,\n",
       " 0.64371914,\n",
       " 0.1054834,\n",
       " 0.28091332,\n",
       " 0.09257723,\n",
       " 0.1465827,\n",
       " 0.9864934,\n",
       " 3.5465403,\n",
       " 0.21285261,\n",
       " 0.3343617,\n",
       " 0.26986873,\n",
       " 0.14813341,\n",
       " 0.7356855,\n",
       " 0.37985173,\n",
       " 4.6503534,\n",
       " 0.21352619,\n",
       " 2.082652,\n",
       " 0.017362388,\n",
       " 0.10074964,\n",
       " 0.34067148,\n",
       " 0.68599176,\n",
       " 0.053069193,\n",
       " 0.10363387,\n",
       " 0.06243922,\n",
       " 1.1119472,\n",
       " 0.7840416,\n",
       " 6.8394656,\n",
       " 2.8218915]"
      ]
     },
     "execution_count": 93,
     "metadata": {},
     "output_type": "execute_result"
    }
   ],
   "source": [
    "min(base_ll_mean)"
   ]
  },
  {
   "cell_type": "code",
   "execution_count": 85,
   "metadata": {},
   "outputs": [
    {
     "data": {
      "text/plain": [
       "[0.0, 0.0, 0.0, 0.0, 0.0, 0.0, 0.0, 0.0, 0.0, 0.0, 0.0, 0.0]"
      ]
     },
     "execution_count": 85,
     "metadata": {},
     "output_type": "execute_result"
    }
   ],
   "source": [
    "word_cxmis_mean[k]"
   ]
  },
  {
   "cell_type": "code",
   "execution_count": 89,
   "metadata": {},
   "outputs": [
    {
     "data": {
      "text/plain": [
       "False"
      ]
     },
     "execution_count": 89,
     "metadata": {},
     "output_type": "execute_result"
    }
   ],
   "source": [
    "context_ll_mean == base_ll_mean"
   ]
  },
  {
   "cell_type": "code",
   "execution_count": null,
   "metadata": {},
   "outputs": [],
   "source": []
  }
 ],
 "metadata": {
  "kernelspec": {
   "display_name": "venv",
   "language": "python",
   "name": "venv"
  },
  "language_info": {
   "codemirror_mode": {
    "name": "ipython",
    "version": 3
   },
   "file_extension": ".py",
   "mimetype": "text/x-python",
   "name": "python",
   "nbconvert_exporter": "python",
   "pygments_lexer": "ipython3",
   "version": "3.8.8"
  }
 },
 "nbformat": 4,
 "nbformat_minor": 4
}
